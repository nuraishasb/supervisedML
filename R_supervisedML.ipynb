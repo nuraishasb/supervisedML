{
  "nbformat": 4,
  "nbformat_minor": 0,
  "metadata": {
    "colab": {
      "provenance": [],
      "authorship_tag": "ABX9TyMSFjTVd/c31V0wWZyTNxvz",
      "include_colab_link": true
    },
    "kernelspec": {
      "name": "ir",
      "display_name": "R"
    },
    "language_info": {
      "name": "R"
    }
  },
  "cells": [
    {
      "cell_type": "markdown",
      "metadata": {
        "id": "view-in-github",
        "colab_type": "text"
      },
      "source": [
        "<a href=\"https://colab.research.google.com/github/nuraishasb/chasingflights/blob/main/R_supervisedML.ipynb\" target=\"_parent\"><img src=\"https://colab.research.google.com/assets/colab-badge.svg\" alt=\"Open In Colab\"/></a>"
      ]
    },
    {
      "cell_type": "markdown",
      "source": [
        "# 1 | Introduction\n",
        "\n",
        "In this report, we experiment the use of machine learning operators, mainly Supervised Learning, on 2 different data sets. We begin with the Classification analysis on the Breast Cancer data set, before moving on to the Regression analysis on the Boston data set."
      ],
      "metadata": {
        "id": "2m8tZuXCGjnr"
      }
    },
    {
      "cell_type": "markdown",
      "source": [
        "# 2 | Classification Task\n",
        "\n",
        "Classification is a type of supervised machine learning where algorithms learn from the data to predict an outcome or event in the future. In this part of the report, we will be using the Breast Cancer data set to predict the diagnosis of breast cancer. https://archive.ics.uci.edu/dataset/45/heart+disease for more details of the data set."
      ],
      "metadata": {
        "id": "0aT7IHLlGnap"
      }
    },
    {
      "cell_type": "markdown",
      "source": [
        "### 2.1: EDA\n",
        "\n",
        "We use exploratory data analysis (EDA) to investigate data sets and summarize their main characteristics, which can be done by employing data visualization methods.\n",
        "\n",
        "The `str()` function provides information of the structure of the variables. It can be seen that the data set is mostly made up of numerical variables, with the the exception of variables `id`, `diagnosis` and `X`."
      ],
      "metadata": {
        "id": "mZTiI0YRGp97"
      }
    },
    {
      "cell_type": "code",
      "execution_count": null,
      "metadata": {
        "id": "OUUYjZ0sGcq7"
      },
      "outputs": [],
      "source": [
        "install.packages(\"googledrive\")\n",
        "library(googledrive)\n",
        "drive_auth(use_oob = TRUE)\n",
        "\n",
        "data <- read.csv('/content/breastcancer.csv')"
      ]
    },
    {
      "cell_type": "code",
      "source": [
        "#load data\n",
        "BreastCancer <- read.csv('breastcancer.csv')\n",
        "\n",
        "#examining the structure of the data set\n",
        "str(BreastCancer)"
      ],
      "metadata": {
        "colab": {
          "base_uri": "https://localhost:8080/"
        },
        "id": "La4kBtPDGjHI",
        "outputId": "2d709f18-0705-46b1-8f8c-60cd63aa257e"
      },
      "execution_count": null,
      "outputs": [
        {
          "output_type": "stream",
          "name": "stdout",
          "text": [
            "'data.frame':\t569 obs. of  33 variables:\n",
            " $ id                     : int  842302 842517 84300903 84348301 84358402 843786 844359 84458202 844981 84501001 ...\n",
            " $ diagnosis              : chr  \"M\" \"M\" \"M\" \"M\" ...\n",
            " $ radius_mean            : num  18 20.6 19.7 11.4 20.3 ...\n",
            " $ texture_mean           : num  10.4 17.8 21.2 20.4 14.3 ...\n",
            " $ perimeter_mean         : num  122.8 132.9 130 77.6 135.1 ...\n",
            " $ area_mean              : num  1001 1326 1203 386 1297 ...\n",
            " $ smoothness_mean        : num  0.1184 0.0847 0.1096 0.1425 0.1003 ...\n",
            " $ compactness_mean       : num  0.2776 0.0786 0.1599 0.2839 0.1328 ...\n",
            " $ concavity_mean         : num  0.3001 0.0869 0.1974 0.2414 0.198 ...\n",
            " $ concave.points_mean    : num  0.1471 0.0702 0.1279 0.1052 0.1043 ...\n",
            " $ symmetry_mean          : num  0.242 0.181 0.207 0.26 0.181 ...\n",
            " $ fractal_dimension_mean : num  0.0787 0.0567 0.06 0.0974 0.0588 ...\n",
            " $ radius_se              : num  1.095 0.543 0.746 0.496 0.757 ...\n",
            " $ texture_se             : num  0.905 0.734 0.787 1.156 0.781 ...\n",
            " $ perimeter_se           : num  8.59 3.4 4.58 3.44 5.44 ...\n",
            " $ area_se                : num  153.4 74.1 94 27.2 94.4 ...\n",
            " $ smoothness_se          : num  0.0064 0.00522 0.00615 0.00911 0.01149 ...\n",
            " $ compactness_se         : num  0.049 0.0131 0.0401 0.0746 0.0246 ...\n",
            " $ concavity_se           : num  0.0537 0.0186 0.0383 0.0566 0.0569 ...\n",
            " $ concave.points_se      : num  0.0159 0.0134 0.0206 0.0187 0.0188 ...\n",
            " $ symmetry_se            : num  0.03 0.0139 0.0225 0.0596 0.0176 ...\n",
            " $ fractal_dimension_se   : num  0.00619 0.00353 0.00457 0.00921 0.00511 ...\n",
            " $ radius_worst           : num  25.4 25 23.6 14.9 22.5 ...\n",
            " $ texture_worst          : num  17.3 23.4 25.5 26.5 16.7 ...\n",
            " $ perimeter_worst        : num  184.6 158.8 152.5 98.9 152.2 ...\n",
            " $ area_worst             : num  2019 1956 1709 568 1575 ...\n",
            " $ smoothness_worst       : num  0.162 0.124 0.144 0.21 0.137 ...\n",
            " $ compactness_worst      : num  0.666 0.187 0.424 0.866 0.205 ...\n",
            " $ concavity_worst        : num  0.712 0.242 0.45 0.687 0.4 ...\n",
            " $ concave.points_worst   : num  0.265 0.186 0.243 0.258 0.163 ...\n",
            " $ symmetry_worst         : num  0.46 0.275 0.361 0.664 0.236 ...\n",
            " $ fractal_dimension_worst: num  0.1189 0.089 0.0876 0.173 0.0768 ...\n",
            " $ X                      : logi  NA NA NA NA NA NA ...\n"
          ]
        }
      ]
    },
    {
      "cell_type": "markdown",
      "source": [
        "Variable `X` is redundant as it does not contain any valuable information hence we remove it. The `is.na()` function checks the NA field in a data frame. We take the sum of the function to find the total number of NA values in our data set, which is 0."
      ],
      "metadata": {
        "id": "RD2zQdK3HWTt"
      }
    },
    {
      "cell_type": "code",
      "source": [
        "#removing column `X`\n",
        "BC <- BreastCancer[,-33]\n",
        "\n",
        "#Finding if there are NA values\n",
        "sum(is.na(BC))"
      ],
      "metadata": {
        "colab": {
          "base_uri": "https://localhost:8080/",
          "height": 34
        },
        "id": "ifNTgNrtHYBG",
        "outputId": "a349df7e-34b0-4114-b9dd-2c9bc925d32d"
      },
      "execution_count": null,
      "outputs": [
        {
          "output_type": "display_data",
          "data": {
            "text/html": [
              "0"
            ],
            "text/markdown": "0",
            "text/latex": "0",
            "text/plain": [
              "[1] 0"
            ]
          },
          "metadata": {}
        }
      ]
    },
    {
      "cell_type": "markdown",
      "source": [
        "The `diagnosis` variable is made up of solely 'M's and 'N's where M stands for malignant and B stands for benign. By tabulating the data, we can deduce that there are more number of observations of benign breast cancer tumors than malignant ones."
      ],
      "metadata": {
        "id": "Gpw2dsa-Hil8"
      }
    },
    {
      "cell_type": "code",
      "source": [
        "#tabulating the binary variable `target`\n",
        "table(BC$diagnosis)"
      ],
      "metadata": {
        "colab": {
          "base_uri": "https://localhost:8080/",
          "height": 71
        },
        "id": "eiiOrlcRHjfP",
        "outputId": "caf5841c-440a-4989-875e-55809b040369"
      },
      "execution_count": null,
      "outputs": [
        {
          "output_type": "display_data",
          "data": {
            "text/plain": [
              "\n",
              "  B   M \n",
              "357 212 "
            ]
          },
          "metadata": {}
        }
      ]
    },
    {
      "cell_type": "markdown",
      "source": [
        "As mentioned above, our aim in this section of the report is to predict the diagnosis of breast cancer, given the measurements of the tumor and breast mass. Thus, our independent variable is the `diagnosis` variable. We start off by converting the variable into binary, where Malignant takes the value 1, and 0 for Benign."
      ],
      "metadata": {
        "id": "zU-RvsZFHniW"
      }
    },
    {
      "cell_type": "code",
      "source": [
        "#convert `diagnosis` to binary: benign and malignant\n",
        "diagnosis01 <-  rep(0, length(BC$diagnosis)) #create vector of 0s of length `diagnosis`\n",
        "diagnosis01[BC$diagnosis=='M'] <- 1 #condition where if `diagnosis` = M, turn it to 1\n",
        "BC <- data.frame(BC, diagnosis01) #adding to the data frame"
      ],
      "metadata": {
        "id": "NYRdiR1iHoZz"
      },
      "execution_count": null,
      "outputs": []
    },
    {
      "cell_type": "markdown",
      "source": [
        "Next, we investigate the association between `diagnosis01` to the other features. We do so by using the `cor()` function, which measures the correlation coefficient value between two vectors."
      ],
      "metadata": {
        "id": "BtKlbxazIEbD"
      }
    },
    {
      "cell_type": "code",
      "source": [
        "cor <- cor(BC[,-1:-2]) #correlation of data set, excluding columns 1 and 2\n",
        "results <- as.table(cor[,31]) #table of correlations between `diagnosis1' with other variables\n",
        "results"
      ],
      "metadata": {
        "colab": {
          "base_uri": "https://localhost:8080/",
          "height": 410
        },
        "id": "MOkm4DvUIMlK",
        "outputId": "beae3b64-812e-4389-cc99-6ec3fb4d4a72"
      },
      "execution_count": null,
      "outputs": [
        {
          "output_type": "display_data",
          "data": {
            "text/plain": [
              "            radius_mean            texture_mean          perimeter_mean \n",
              "            0.730028511             0.415185300             0.742635530 \n",
              "              area_mean         smoothness_mean        compactness_mean \n",
              "            0.708983837             0.358559965             0.596533678 \n",
              "         concavity_mean     concave.points_mean           symmetry_mean \n",
              "            0.696359707             0.776613840             0.330498554 \n",
              " fractal_dimension_mean               radius_se              texture_se \n",
              "           -0.012837603             0.567133821            -0.008303333 \n",
              "           perimeter_se                 area_se           smoothness_se \n",
              "            0.556140703             0.548235940            -0.067016011 \n",
              "         compactness_se            concavity_se       concave.points_se \n",
              "            0.292999244             0.253729766             0.408042333 \n",
              "            symmetry_se    fractal_dimension_se            radius_worst \n",
              "           -0.006521756             0.077972417             0.776453779 \n",
              "          texture_worst         perimeter_worst              area_worst \n",
              "            0.456902821             0.782914137             0.733825035 \n",
              "       smoothness_worst       compactness_worst         concavity_worst \n",
              "            0.421464861             0.590998238             0.659610210 \n",
              "   concave.points_worst          symmetry_worst fractal_dimension_worst \n",
              "            0.793566017             0.416294311             0.323872189 \n",
              "            diagnosis01 \n",
              "            1.000000000 "
            ]
          },
          "metadata": {}
        }
      ]
    },
    {
      "cell_type": "markdown",
      "source": [
        "Possible values of the correlation coefficient range from -1 to +1, with -1 indicating a perfectly linear negative, and +1 indicating a perfectly linear positive correlation. A correlation coefficient close to 0 suggests little, if any, correlation. The other features seem most likely to be useful in predicting `diagnosis01` are: radius_mean, perimeter_mean, area_mean, concave.points_mean, radius_worst, perimeter_worst, area_worst, and concave.points_worst."
      ],
      "metadata": {
        "id": "J-CRnUu1IagD"
      }
    },
    {
      "cell_type": "markdown",
      "source": [
        "### 2.2: Prediction Diagnosis of Breast Cancer\n",
        "\n",
        "We begin the analysis by splitting the data, using the 70/30 ratio."
      ],
      "metadata": {
        "id": "zH7rmf3vIclp"
      }
    },
    {
      "cell_type": "code",
      "source": [
        "#to make sure we get the same results for randomization\n",
        "set.seed(13)\n",
        "\n",
        "#taking 70% of the data for training\n",
        "train.size <-  nrow(BC) * 0.7\n",
        "\n",
        "#taking a sample of the total rows by the number of train.size\n",
        "train <-  sample(1:nrow(BC), train.size) #sample of the rows of the training set\n",
        "test <-  -train #the other 30% for test - this is done by indexing.\n",
        "\n",
        "#subsetting the data set by the train and test rows respectively\n",
        "BC.train <-  BC[train, ]\n",
        "BC.test <-  BC[test, ]\n",
        "diagnosis01.test <-  diagnosis01[test]"
      ],
      "metadata": {
        "id": "5Pu4UfgDJhSb"
      },
      "execution_count": null,
      "outputs": []
    },
    {
      "cell_type": "markdown",
      "source": [
        "#### 2.2.1: Linear Discriminant Analysis\n",
        "\n",
        "The linear discriminant analysis (LDA) finds a linear combination of features that best separates the classes in a data set. We will be using the `lda()` function from the `MASS` package to fit the LDA model to our data."
      ],
      "metadata": {
        "id": "shJRxwKzLWfb"
      }
    },
    {
      "cell_type": "code",
      "source": [
        "#load the package\n",
        "library(MASS)\n",
        "\n",
        "#learn the model on train set\n",
        "lda.fit <-  lda(diagnosis01 ~ radius_mean + perimeter_mean + area_mean + concave.points_mean + radius_worst\n",
        "                + perimeter_worst + area_worst + concave.points_worst,\n",
        "                data = BC.train)\n",
        "lda.fit #view model output\n",
        "\n",
        "#predicting on test set\n",
        "lda.pred <- predict(lda.fit, BC.test)\n",
        "names(lda.pred)\n",
        "head(lda.pred$class) #view predicted class for first six observations in test set\n",
        "head(lda.pred$posterior) #view posterior probabilities for first six observations in test set\n",
        "head(lda.pred$x) #view linear discriminants for first six observations in test set\n",
        "\n",
        "\n",
        "#finding misclassification error rate (MER), which gives the proportion of incorrect predictions\n",
        "mean(lda.pred$class != diagnosis01.test)\n",
        "LDAMER <- mean(lda.pred$class != diagnosis01.test)"
      ],
      "metadata": {
        "colab": {
          "base_uri": "https://localhost:8080/",
          "height": 1000
        },
        "id": "7MQB_i0JLj--",
        "outputId": "f34cf772-c586-4dc1-aa60-19e92d5753b2"
      },
      "execution_count": null,
      "outputs": [
        {
          "output_type": "display_data",
          "data": {
            "text/plain": [
              "Call:\n",
              "lda(diagnosis01 ~ radius_mean + perimeter_mean + area_mean + \n",
              "    concave.points_mean + radius_worst + perimeter_worst + area_worst + \n",
              "    concave.points_worst, data = BC.train)\n",
              "\n",
              "Prior probabilities of groups:\n",
              "        0         1 \n",
              "0.6482412 0.3517588 \n",
              "\n",
              "Group means:\n",
              "  radius_mean perimeter_mean area_mean concave.points_mean radius_worst\n",
              "0    12.17950       78.34996  464.2903          0.02667181     13.42559\n",
              "1    17.55879      116.16007  986.3771          0.09022679     21.26043\n",
              "  perimeter_worst area_worst concave.points_worst\n",
              "0        87.44453   561.3868            0.0768624\n",
              "1       142.60050  1437.0136            0.1858921\n",
              "\n",
              "Coefficients of linear discriminants:\n",
              "                              LD1\n",
              "radius_mean          -0.841894415\n",
              "perimeter_mean       -0.125061066\n",
              "area_mean             0.012546995\n",
              "concave.points_mean  17.311321903\n",
              "radius_worst          1.615371361\n",
              "perimeter_worst      -0.002705764\n",
              "area_worst           -0.009538506\n",
              "concave.points_worst  9.631020355"
            ]
          },
          "metadata": {}
        },
        {
          "output_type": "display_data",
          "data": {
            "text/html": [
              "<style>\n",
              ".list-inline {list-style: none; margin:0; padding: 0}\n",
              ".list-inline>li {display: inline-block}\n",
              ".list-inline>li:not(:last-child)::after {content: \"\\00b7\"; padding: 0 .5ex}\n",
              "</style>\n",
              "<ol class=list-inline><li>'class'</li><li>'posterior'</li><li>'x'</li></ol>\n"
            ],
            "text/markdown": "1. 'class'\n2. 'posterior'\n3. 'x'\n\n\n",
            "text/latex": "\\begin{enumerate*}\n\\item 'class'\n\\item 'posterior'\n\\item 'x'\n\\end{enumerate*}\n",
            "text/plain": [
              "[1] \"class\"     \"posterior\" \"x\"        "
            ]
          },
          "metadata": {}
        },
        {
          "output_type": "display_data",
          "data": {
            "text/html": [
              "<style>\n",
              ".list-inline {list-style: none; margin:0; padding: 0}\n",
              ".list-inline>li {display: inline-block}\n",
              ".list-inline>li:not(:last-child)::after {content: \"\\00b7\"; padding: 0 .5ex}\n",
              "</style>\n",
              "<ol class=list-inline><li>1</li><li>1</li><li>1</li><li>1</li><li>1</li><li>0</li></ol>\n",
              "\n",
              "<details>\n",
              "\t<summary style=display:list-item;cursor:pointer>\n",
              "\t\t<strong>Levels</strong>:\n",
              "\t</summary>\n",
              "\t<style>\n",
              "\t.list-inline {list-style: none; margin:0; padding: 0}\n",
              "\t.list-inline>li {display: inline-block}\n",
              "\t.list-inline>li:not(:last-child)::after {content: \"\\00b7\"; padding: 0 .5ex}\n",
              "\t</style>\n",
              "\t<ol class=list-inline><li>'0'</li><li>'1'</li></ol>\n",
              "</details>"
            ],
            "text/markdown": "1. 1\n2. 1\n3. 1\n4. 1\n5. 1\n6. 0\n\n\n\n**Levels**: 1. '0'\n2. '1'\n\n\n",
            "text/latex": "\\begin{enumerate*}\n\\item 1\n\\item 1\n\\item 1\n\\item 1\n\\item 1\n\\item 0\n\\end{enumerate*}\n\n\\emph{Levels}: \\begin{enumerate*}\n\\item '0'\n\\item '1'\n\\end{enumerate*}\n",
            "text/plain": [
              "[1] 1 1 1 1 1 0\n",
              "Levels: 0 1"
            ]
          },
          "metadata": {}
        },
        {
          "output_type": "display_data",
          "data": {
            "text/html": [
              "<table class=\"dataframe\">\n",
              "<caption>A matrix: 6 × 2 of type dbl</caption>\n",
              "<thead>\n",
              "\t<tr><th></th><th scope=col>0</th><th scope=col>1</th></tr>\n",
              "</thead>\n",
              "<tbody>\n",
              "\t<tr><th scope=row>3</th><td>1.265956e-05</td><td>0.9999873</td></tr>\n",
              "\t<tr><th scope=row>4</th><td>1.029342e-05</td><td>0.9999897</td></tr>\n",
              "\t<tr><th scope=row>7</th><td>6.140966e-04</td><td>0.9993859</td></tr>\n",
              "\t<tr><th scope=row>8</th><td>9.524947e-02</td><td>0.9047505</td></tr>\n",
              "\t<tr><th scope=row>10</th><td>4.141766e-02</td><td>0.9585823</td></tr>\n",
              "\t<tr><th scope=row>11</th><td>6.150928e-01</td><td>0.3849072</td></tr>\n",
              "</tbody>\n",
              "</table>\n"
            ],
            "text/markdown": "\nA matrix: 6 × 2 of type dbl\n\n| <!--/--> | 0 | 1 |\n|---|---|---|\n| 3 | 1.265956e-05 | 0.9999873 |\n| 4 | 1.029342e-05 | 0.9999897 |\n| 7 | 6.140966e-04 | 0.9993859 |\n| 8 | 9.524947e-02 | 0.9047505 |\n| 10 | 4.141766e-02 | 0.9585823 |\n| 11 | 6.150928e-01 | 0.3849072 |\n\n",
            "text/latex": "A matrix: 6 × 2 of type dbl\n\\begin{tabular}{r|ll}\n  & 0 & 1\\\\\n\\hline\n\t3 & 1.265956e-05 & 0.9999873\\\\\n\t4 & 1.029342e-05 & 0.9999897\\\\\n\t7 & 6.140966e-04 & 0.9993859\\\\\n\t8 & 9.524947e-02 & 0.9047505\\\\\n\t10 & 4.141766e-02 & 0.9585823\\\\\n\t11 & 6.150928e-01 & 0.3849072\\\\\n\\end{tabular}\n",
            "text/plain": [
              "   0            1        \n",
              "3  1.265956e-05 0.9999873\n",
              "4  1.029342e-05 0.9999897\n",
              "7  6.140966e-04 0.9993859\n",
              "8  9.524947e-02 0.9047505\n",
              "10 4.141766e-02 0.9585823\n",
              "11 6.150928e-01 0.3849072"
            ]
          },
          "metadata": {}
        },
        {
          "output_type": "display_data",
          "data": {
            "text/html": [
              "<table class=\"dataframe\">\n",
              "<caption>A matrix: 6 × 1 of type dbl</caption>\n",
              "<thead>\n",
              "\t<tr><th></th><th scope=col>LD1</th></tr>\n",
              "</thead>\n",
              "<tbody>\n",
              "\t<tr><th scope=row>3</th><td>3.8373071</td></tr>\n",
              "\t<tr><th scope=row>4</th><td>3.8948092</td></tr>\n",
              "\t<tr><th scope=row>7</th><td>2.7583708</td></tr>\n",
              "\t<tr><th scope=row>8</th><td>1.3289242</td></tr>\n",
              "\t<tr><th scope=row>10</th><td>1.5764263</td></tr>\n",
              "\t<tr><th scope=row>11</th><td>0.5730318</td></tr>\n",
              "</tbody>\n",
              "</table>\n"
            ],
            "text/markdown": "\nA matrix: 6 × 1 of type dbl\n\n| <!--/--> | LD1 |\n|---|---|\n| 3 | 3.8373071 |\n| 4 | 3.8948092 |\n| 7 | 2.7583708 |\n| 8 | 1.3289242 |\n| 10 | 1.5764263 |\n| 11 | 0.5730318 |\n\n",
            "text/latex": "A matrix: 6 × 1 of type dbl\n\\begin{tabular}{r|l}\n  & LD1\\\\\n\\hline\n\t3 & 3.8373071\\\\\n\t4 & 3.8948092\\\\\n\t7 & 2.7583708\\\\\n\t8 & 1.3289242\\\\\n\t10 & 1.5764263\\\\\n\t11 & 0.5730318\\\\\n\\end{tabular}\n",
            "text/plain": [
              "   LD1      \n",
              "3  3.8373071\n",
              "4  3.8948092\n",
              "7  2.7583708\n",
              "8  1.3289242\n",
              "10 1.5764263\n",
              "11 0.5730318"
            ]
          },
          "metadata": {}
        },
        {
          "output_type": "display_data",
          "data": {
            "text/html": [
              "0.087719298245614"
            ],
            "text/markdown": "0.087719298245614",
            "text/latex": "0.087719298245614",
            "text/plain": [
              "[1] 0.0877193"
            ]
          },
          "metadata": {}
        }
      ]
    },
    {
      "cell_type": "markdown",
      "source": [
        "***LDA has a 8.77% test error rate.**\n",
        "\n",
        "#### 2.2.2: Quadratic Discriminant Analysis\n",
        "\n",
        "The quadratic discriminant analysis (QDA) finds a non-linear combination of features that best separates the classes in a data set. Similarly, we will be using the `qda()` function from the `MASS` package to fit the QDA model to our data."
      ],
      "metadata": {
        "id": "3cbSBFC_N9Xk"
      }
    },
    {
      "cell_type": "code",
      "source": [
        "# learn the model\n",
        "qda.fit <-  qda(diagnosis01 ~ radius_mean + perimeter_mean + area_mean + concave.points_mean + radius_worst\n",
        "                + perimeter_worst + area_worst + concave.points_worst,\n",
        "                data = BC.train)\n",
        "\n",
        "# form the prediction on test set\n",
        "qda.pred <-  predict(qda.fit, BC.test)\n",
        "names(qda.pred)\n",
        "head(qda.pred$class) #view predicted class for first six observations in test set\n",
        "head(qda.pred$posterior) #view posterior probabilities for first six observations in test set\n",
        "\n",
        "\n",
        "#compute estimate of test error.\n",
        "#mean where prediction does not match the real value\n",
        "mean(qda.pred$class != diagnosis01.test)\n",
        "QDAMER <- mean(qda.pred$class != diagnosis01.test)"
      ],
      "metadata": {
        "colab": {
          "base_uri": "https://localhost:8080/",
          "height": 324
        },
        "id": "uEoQl7i7N-Kl",
        "outputId": "f3dd8a22-bbf4-4172-fdb5-0831e6492fa0"
      },
      "execution_count": null,
      "outputs": [
        {
          "output_type": "display_data",
          "data": {
            "text/html": [
              "<style>\n",
              ".list-inline {list-style: none; margin:0; padding: 0}\n",
              ".list-inline>li {display: inline-block}\n",
              ".list-inline>li:not(:last-child)::after {content: \"\\00b7\"; padding: 0 .5ex}\n",
              "</style>\n",
              "<ol class=list-inline><li>'class'</li><li>'posterior'</li></ol>\n"
            ],
            "text/markdown": "1. 'class'\n2. 'posterior'\n\n\n",
            "text/latex": "\\begin{enumerate*}\n\\item 'class'\n\\item 'posterior'\n\\end{enumerate*}\n",
            "text/plain": [
              "[1] \"class\"     \"posterior\""
            ]
          },
          "metadata": {}
        },
        {
          "output_type": "display_data",
          "data": {
            "text/html": [
              "<style>\n",
              ".list-inline {list-style: none; margin:0; padding: 0}\n",
              ".list-inline>li {display: inline-block}\n",
              ".list-inline>li:not(:last-child)::after {content: \"\\00b7\"; padding: 0 .5ex}\n",
              "</style>\n",
              "<ol class=list-inline><li>1</li><li>1</li><li>1</li><li>1</li><li>1</li><li>1</li></ol>\n",
              "\n",
              "<details>\n",
              "\t<summary style=display:list-item;cursor:pointer>\n",
              "\t\t<strong>Levels</strong>:\n",
              "\t</summary>\n",
              "\t<style>\n",
              "\t.list-inline {list-style: none; margin:0; padding: 0}\n",
              "\t.list-inline>li {display: inline-block}\n",
              "\t.list-inline>li:not(:last-child)::after {content: \"\\00b7\"; padding: 0 .5ex}\n",
              "\t</style>\n",
              "\t<ol class=list-inline><li>'0'</li><li>'1'</li></ol>\n",
              "</details>"
            ],
            "text/markdown": "1. 1\n2. 1\n3. 1\n4. 1\n5. 1\n6. 1\n\n\n\n**Levels**: 1. '0'\n2. '1'\n\n\n",
            "text/latex": "\\begin{enumerate*}\n\\item 1\n\\item 1\n\\item 1\n\\item 1\n\\item 1\n\\item 1\n\\end{enumerate*}\n\n\\emph{Levels}: \\begin{enumerate*}\n\\item '0'\n\\item '1'\n\\end{enumerate*}\n",
            "text/plain": [
              "[1] 1 1 1 1 1 1\n",
              "Levels: 0 1"
            ]
          },
          "metadata": {}
        },
        {
          "output_type": "display_data",
          "data": {
            "text/html": [
              "<table class=\"dataframe\">\n",
              "<caption>A matrix: 6 × 2 of type dbl</caption>\n",
              "<thead>\n",
              "\t<tr><th></th><th scope=col>0</th><th scope=col>1</th></tr>\n",
              "</thead>\n",
              "<tbody>\n",
              "\t<tr><th scope=row>3</th><td>8.260391e-118</td><td>1</td></tr>\n",
              "\t<tr><th scope=row>4</th><td> 3.172709e-20</td><td>1</td></tr>\n",
              "\t<tr><th scope=row>7</th><td> 4.348630e-97</td><td>1</td></tr>\n",
              "\t<tr><th scope=row>8</th><td> 7.383542e-13</td><td>1</td></tr>\n",
              "\t<tr><th scope=row>10</th><td> 1.070304e-10</td><td>1</td></tr>\n",
              "\t<tr><th scope=row>11</th><td> 1.013080e-19</td><td>1</td></tr>\n",
              "</tbody>\n",
              "</table>\n"
            ],
            "text/markdown": "\nA matrix: 6 × 2 of type dbl\n\n| <!--/--> | 0 | 1 |\n|---|---|---|\n| 3 | 8.260391e-118 | 1 |\n| 4 |  3.172709e-20 | 1 |\n| 7 |  4.348630e-97 | 1 |\n| 8 |  7.383542e-13 | 1 |\n| 10 |  1.070304e-10 | 1 |\n| 11 |  1.013080e-19 | 1 |\n\n",
            "text/latex": "A matrix: 6 × 2 of type dbl\n\\begin{tabular}{r|ll}\n  & 0 & 1\\\\\n\\hline\n\t3 & 8.260391e-118 & 1\\\\\n\t4 &  3.172709e-20 & 1\\\\\n\t7 &  4.348630e-97 & 1\\\\\n\t8 &  7.383542e-13 & 1\\\\\n\t10 &  1.070304e-10 & 1\\\\\n\t11 &  1.013080e-19 & 1\\\\\n\\end{tabular}\n",
            "text/plain": [
              "   0             1\n",
              "3  8.260391e-118 1\n",
              "4   3.172709e-20 1\n",
              "7   4.348630e-97 1\n",
              "8   7.383542e-13 1\n",
              "10  1.070304e-10 1\n",
              "11  1.013080e-19 1"
            ]
          },
          "metadata": {}
        },
        {
          "output_type": "display_data",
          "data": {
            "text/html": [
              "0.0584795321637427"
            ],
            "text/markdown": "0.0584795321637427",
            "text/latex": "0.0584795321637427",
            "text/plain": [
              "[1] 0.05847953"
            ]
          },
          "metadata": {}
        }
      ]
    },
    {
      "cell_type": "markdown",
      "source": [
        "**QDA has a 5.85% test error rate.**\n",
        "\n",
        "#### 2.2.3: Logistic Regression\n",
        "\n",
        "Logistic regression predicts the categorical dependent variable using a given set of independent variables. We will be using the `glm()` function and specify `family=”binomial”` so that R fits a logistic regression model to the data set. GLM stands for general linear model."
      ],
      "metadata": {
        "id": "N0AqyaNFOBLB"
      }
    },
    {
      "cell_type": "code",
      "source": [
        "#learn model: trained on training data\n",
        "glm.fit <-  glm(diagnosis01 ~ radius_mean + perimeter_mean + area_mean + concave.points_mean + radius_worst\n",
        "                + perimeter_worst + area_worst + concave.points_worst,\n",
        "              data = BC.train,\n",
        "              family = binomial)\n",
        "summary(glm.fit) #view model summary\n",
        "\n",
        "#obtain predictions on test set\n",
        "glm.probs <-  predict(glm.fit, BC.test, type = \"response\") #probability that each observation is malignant\n",
        "#using a threshold to decide on final diagnosis\n",
        "glm.pred <-  rep(0, length(glm.probs))\n",
        "glm.pred[glm.probs > 0.7] <- 1 #threshold chosen is 0.7\n",
        "\n",
        "#creating ROC curve\n",
        "install.packages(\"verification\")\n",
        "library(verification)\n",
        "roc.plot(diagnosis01.test, glm.probs, xlab = \"False Positive Rate\",\n",
        "ylab = \"True Positive Rate\")\n",
        "\n",
        "#evaluate prediction quality\n",
        "mean(glm.pred != diagnosis01.test)\n",
        "LogRegMER <- mean(glm.pred != diagnosis01.test)"
      ],
      "metadata": {
        "colab": {
          "base_uri": "https://localhost:8080/",
          "height": 1000
        },
        "id": "Eb2hTY0YODvn",
        "outputId": "1c329b08-df92-4ff0-b8d3-cdf919c90022"
      },
      "execution_count": null,
      "outputs": [
        {
          "output_type": "stream",
          "name": "stderr",
          "text": [
            "Warning message:\n",
            "“glm.fit: fitted probabilities numerically 0 or 1 occurred”\n"
          ]
        },
        {
          "output_type": "display_data",
          "data": {
            "text/plain": [
              "\n",
              "Call:\n",
              "glm(formula = diagnosis01 ~ radius_mean + perimeter_mean + area_mean + \n",
              "    concave.points_mean + radius_worst + perimeter_worst + area_worst + \n",
              "    concave.points_worst, family = binomial, data = BC.train)\n",
              "\n",
              "Coefficients:\n",
              "                     Estimate Std. Error z value Pr(>|z|)  \n",
              "(Intercept)          -0.06650   13.19228  -0.005   0.9960  \n",
              "radius_mean           2.22045    5.80321   0.383   0.7020  \n",
              "perimeter_mean       -0.20649    0.63727  -0.324   0.7459  \n",
              "area_mean            -0.04627    0.03904  -1.185   0.2359  \n",
              "concave.points_mean  77.19324   47.28673   1.632   0.1026  \n",
              "radius_worst         -2.76489    2.49443  -1.108   0.2677  \n",
              "perimeter_worst      -0.03212    0.16584  -0.194   0.8464  \n",
              "area_worst            0.07016    0.02840   2.470   0.0135 *\n",
              "concave.points_worst 34.17197   19.31499   1.769   0.0769 .\n",
              "---\n",
              "Signif. codes:  0 ‘***’ 0.001 ‘**’ 0.01 ‘*’ 0.05 ‘.’ 0.1 ‘ ’ 1\n",
              "\n",
              "(Dispersion parameter for binomial family taken to be 1)\n",
              "\n",
              "    Null deviance: 516.229  on 397  degrees of freedom\n",
              "Residual deviance:  56.568  on 389  degrees of freedom\n",
              "AIC: 74.568\n",
              "\n",
              "Number of Fisher Scoring iterations: 10\n"
            ]
          },
          "metadata": {}
        },
        {
          "output_type": "stream",
          "name": "stderr",
          "text": [
            "Installing package into ‘/usr/local/lib/R/site-library’\n",
            "(as ‘lib’ is unspecified)\n",
            "\n",
            "also installing the dependencies ‘dotCall64’, ‘spam’, ‘maps’, ‘proxy’, ‘fields’, ‘CircStats’, ‘dtw’\n",
            "\n",
            "\n",
            "Loading required package: fields\n",
            "\n",
            "Loading required package: spam\n",
            "\n",
            "Spam version 2.10-0 (2023-10-23) is loaded.\n",
            "Type 'help( Spam)' or 'demo( spam)' for a short introduction \n",
            "and overview of this package.\n",
            "Help for individual functions is also obtained by adding the\n",
            "suffix '.spam' to the function name, e.g. 'help( chol.spam)'.\n",
            "\n",
            "\n",
            "Attaching package: ‘spam’\n",
            "\n",
            "\n",
            "The following objects are masked from ‘package:base’:\n",
            "\n",
            "    backsolve, forwardsolve\n",
            "\n",
            "\n",
            "Loading required package: viridisLite\n",
            "\n",
            "\n",
            "Try help(fields) to get started.\n",
            "\n",
            "Loading required package: boot\n",
            "\n",
            "Loading required package: CircStats\n",
            "\n",
            "Loading required package: dtw\n",
            "\n",
            "Loading required package: proxy\n",
            "\n",
            "\n",
            "Attaching package: ‘proxy’\n",
            "\n",
            "\n",
            "The following object is masked from ‘package:spam’:\n",
            "\n",
            "    as.matrix\n",
            "\n",
            "\n",
            "The following objects are masked from ‘package:stats’:\n",
            "\n",
            "    as.dist, dist\n",
            "\n",
            "\n",
            "The following object is masked from ‘package:base’:\n",
            "\n",
            "    as.matrix\n",
            "\n",
            "\n",
            "Loaded dtw v1.23-1. See ?dtw for help, citation(\"dtw\") for use in publication.\n",
            "\n",
            "\n",
            "Registered S3 method overwritten by 'verification':\n",
            "  method    from\n",
            "  lines.roc pROC\n",
            "\n",
            "\n",
            "Attaching package: ‘verification’\n",
            "\n",
            "\n",
            "The following object is masked from ‘package:pROC’:\n",
            "\n",
            "    lines.roc\n",
            "\n",
            "\n"
          ]
        },
        {
          "output_type": "display_data",
          "data": {
            "text/html": [
              "0.064327485380117"
            ],
            "text/markdown": "0.064327485380117",
            "text/latex": "0.064327485380117",
            "text/plain": [
              "[1] 0.06432749"
            ]
          },
          "metadata": {}
        },
        {
          "output_type": "display_data",
          "data": {
            "text/plain": [
              "Plot with title “ROC Curve”"
            ],
            "image/png": "[encoded data removed]"
          },
          "metadata": {
            "image/png": {
              "width": 420,
              "height": 420
            }
          }
        }
      ]
    },
    {
      "cell_type": "markdown",
      "source": [
        "**Logistic Regression has a 6.43% test error rate.**\n",
        "\n",
        "#### 2.2.4: K-Nearest Neighbour\n",
        "\n",
        "The K-Nearest Neighbor (KNN) algorithm stores all the available data and classifies a new data point based on the similarity. We will be using the `knn()` function from the `class` package to fit the KNN model to our data.\n"
      ],
      "metadata": {
        "id": "d6XnPngFOGYZ"
      }
    },
    {
      "cell_type": "code",
      "source": [
        "library(class)\n",
        "\n",
        "#binding the feature values by column for the train and test set respectively.\n",
        "train.X <- cbind(BC$radius_mean, BC$perimeter_mean, BC$area_mean, BC$concave.points_mean, BC$radius_worst, BC$perimeter_worst, BC$area_worst, BC$concave.points_worst)[train,]\n",
        "\n",
        "test.X <- cbind(BC$radius_mean, BC$perimeter_mean, BC$area_mean, BC$concave.points_mean, BC$radius_worst, BC$perimeter_worst, BC$area_worst, BC$concave.points_worst)[test,]\n",
        "\n",
        "train.diagnosis01 <-  diagnosis01[train]\n",
        "\n",
        "set.seed(13)\n",
        "# KNN (k=2)\n",
        "knn.pred2 <-  knn(train.X, test.X, train.diagnosis01, k = 2)\n",
        "mean(knn.pred2 != diagnosis01.test)\n",
        "KNN2MER <- mean(knn.pred2 != diagnosis01.test)\n",
        "\n",
        "# KNN (k=20)\n",
        "knn.pred20 <-  knn(train.X, test.X, train.diagnosis01, k = 20)\n",
        "mean(knn.pred20 != diagnosis01.test)\n",
        "KNN20MER <- mean(knn.pred20 != diagnosis01.test)\n",
        "\n",
        "# KNN (k=200)\n",
        "knn.pred200 <-  knn(train.X, test.X, train.diagnosis01, k = 200)\n",
        "mean(knn.pred200 != diagnosis01.test)\n",
        "KNN200MER <- mean(knn.pred200 != diagnosis01.test)"
      ],
      "metadata": {
        "colab": {
          "base_uri": "https://localhost:8080/",
          "height": 69
        },
        "id": "zHOXbyEfOI5j",
        "outputId": "f0382cbc-9ed1-4399-a9c8-5310d68e0ccb"
      },
      "execution_count": null,
      "outputs": [
        {
          "output_type": "display_data",
          "data": {
            "text/html": [
              "0.111111111111111"
            ],
            "text/markdown": "0.111111111111111",
            "text/latex": "0.111111111111111",
            "text/plain": [
              "[1] 0.1111111"
            ]
          },
          "metadata": {}
        },
        {
          "output_type": "display_data",
          "data": {
            "text/html": [
              "0.087719298245614"
            ],
            "text/markdown": "0.087719298245614",
            "text/latex": "0.087719298245614",
            "text/plain": [
              "[1] 0.0877193"
            ]
          },
          "metadata": {}
        },
        {
          "output_type": "display_data",
          "data": {
            "text/html": [
              "0.181286549707602"
            ],
            "text/markdown": "0.181286549707602",
            "text/latex": "0.181286549707602",
            "text/plain": [
              "[1] 0.1812865"
            ]
          },
          "metadata": {}
        }
      ]
    },
    {
      "cell_type": "markdown",
      "source": [
        "**k=2 has a 11.1% test error rate. k=20 has 8.77% test error rate. k=200 has a 18.1% test error rate. K of 20 seems to perform the best.**\n",
        "\n",
        "### 2.3: Final Analyisis"
      ],
      "metadata": {
        "id": "u2eQxs5rONUY"
      }
    },
    {
      "cell_type": "code",
      "source": [
        "#creating a table of overall results\n",
        "mervalues <- matrix(c(LDAMER, QDAMER, LogRegMER, KNN2MER, KNN20MER, KNN200MER), ncol=1)\n",
        "colnames(mervalues) <- c('MER values')\n",
        "rownames(mervalues) <- c('LDA','QDA','Log Reg', 'KNN (K=2)', 'KNN (K=20)', 'KNN (K=200)')\n",
        "as.table(mervalues)"
      ],
      "metadata": {
        "colab": {
          "base_uri": "https://localhost:8080/",
          "height": 142
        },
        "id": "hxD83_NVOOHq",
        "outputId": "8775bc2a-0db2-424a-9aca-55bf7ac1aaca"
      },
      "execution_count": null,
      "outputs": [
        {
          "output_type": "display_data",
          "data": {
            "text/plain": [
              "            MER values\n",
              "LDA         0.08771930\n",
              "QDA         0.05847953\n",
              "Log Reg     0.06432749\n",
              "KNN (K=2)   0.11111111\n",
              "KNN (K=20)  0.08771930\n",
              "KNN (K=200) 0.18128655"
            ]
          },
          "metadata": {}
        }
      ]
    },
    {
      "cell_type": "markdown",
      "source": [
        "**QDA achieved the lowest test error rate.**"
      ],
      "metadata": {
        "id": "dClcamiEORZV"
      }
    },
    {
      "cell_type": "markdown",
      "source": [
        "# 3 | Supervised Learning: Regression\n",
        "\n",
        "Regression is a type of supervised machine learning where algorithms learn from the data to predict a continuous value. In this part of the report, we will be using the Boston data set from the MASS package to predict the median value of owner-occupied homes in suburbs of Boston."
      ],
      "metadata": {
        "id": "pOQowxPpOTTu"
      }
    },
    {
      "cell_type": "markdown",
      "source": [
        "### 3.1: EDA\n",
        "\n",
        "Once again, we start off with some exploratory data analysis."
      ],
      "metadata": {
        "id": "ZGVLK1OzKdO1"
      }
    },
    {
      "cell_type": "code",
      "source": [
        "#loading the data\n",
        "library(MASS)\n",
        "\n",
        "#observing the structure\n",
        "str(Boston)\n",
        "\n",
        "#checking for NA value\n",
        "sum(is.na(Boston))\n",
        "\n",
        "#summary of `medv` variable\n",
        "summary(Boston$medv)\n",
        "\n",
        "#observing correlation\n",
        "pairs(Boston)"
      ],
      "metadata": {
        "id": "NDBe-tZ6KfXi"
      },
      "execution_count": null,
      "outputs": []
    },
    {
      "cell_type": "markdown",
      "source": [
        "### 3.2: Predicting the Median Housing Value in Boston\n",
        "\n",
        "We start off by splitting the data into training and testing sets using the same 70/30 ratio."
      ],
      "metadata": {
        "id": "KYrLdtFGKwln"
      }
    },
    {
      "cell_type": "code",
      "source": [
        "#split the data\n",
        "train.size2 <-  nrow(Boston) * 0.7 #taking 70% of the data for training\n",
        "\n",
        "#taking a sample of the total rows by the number of train.size\n",
        "train2 <-  sample(1:nrow(Boston), train.size2) #sample of the rows of the training set\n",
        "test2 <-  -train2 #the other 30% for test - this is done by indexing.\n",
        "\n",
        "#subset the Boston data set by the train and test rows respectively\n",
        "Boston.train <-  Boston[train2, ]\n",
        "Boston.test <-  Boston[test2, ]"
      ],
      "metadata": {
        "id": "6qXMBxfhKwu_"
      },
      "execution_count": null,
      "outputs": []
    },
    {
      "cell_type": "markdown",
      "source": [
        "#### 3.2.1: Linear Regression\n",
        "\n",
        "Linear regression model is a basic and commonly used type of predictive analysis - it assumes a linear relationship between the independent variable and the dependent variable, and aims to find the best-fitting line that describes the relationship."
      ],
      "metadata": {
        "id": "VVpmvdHgK6Wm"
      }
    },
    {
      "cell_type": "code",
      "source": [
        "#fitting a linear model using least squares on training data\n",
        "lm.fit <-  lm(medv ~ . , data = Boston.train)\n",
        "#view model summary\n",
        "summary(lm.fit)\n",
        "\n",
        "#predicting on test data\n",
        "lm.pred <-  predict(lm.fit, Boston.test)\n",
        "\n",
        "#evaluate prediction quality using MSE\n",
        "mean((Boston.test[, \"medv\"] - lm.pred)^2)\n",
        "MSELM <- mean((Boston.test[, \"medv\"] - lm.pred)^2)"
      ],
      "metadata": {
        "id": "7u1gzGZxL5Eo"
      },
      "execution_count": null,
      "outputs": []
    },
    {
      "cell_type": "markdown",
      "source": [
        "**Least Squares has a MSE of 27.79.**\n",
        "\n",
        "try another one with squared variables or something"
      ],
      "metadata": {
        "id": "SkPP5nBHL9ug"
      }
    },
    {
      "cell_type": "code",
      "source": [],
      "metadata": {
        "id": "0eUjcAKuMD9d"
      },
      "execution_count": null,
      "outputs": []
    },
    {
      "cell_type": "markdown",
      "source": [
        "#### 3.2.2: Best Subset\n",
        "\n",
        "The best subset algorithm helps us pick the best model out of the many models we can potentially build with 13 features and one target. The `regsubsets()` function is for model selection, done by exhaustive search. It fits the input to every output/group of outputs, compare the models and find the one with the least error/BIC."
      ],
      "metadata": {
        "id": "YkYmqTiYMEOb"
      }
    },
    {
      "cell_type": "code",
      "source": [
        "library(leaps)\n",
        "\n",
        "#model selection\n",
        "regfit.full <- regsubsets(medv ~ . , data = Boston.train, nvmax=15)\n",
        "\n",
        "reg.summary <- summary(regfit.full)\n",
        "best.model <- which.min(reg.summary$bic) #number of variables with the smallest BIC value\n",
        "#plotting the BIC curve across the number of variables\n",
        "plot(reg.summary$bic,xlab=\"Number of Variables\",ylab=\"BIC\",type='l')\n",
        "points(best.model,reg.summary$bic[best.model], col=\"red\",cex=2,pch=20)\n",
        "\n",
        "#predictions on test set\n",
        "Xtest <- model.matrix(medv ~ . , data = Boston.test) # get matrix X for test data\n",
        "#taking the estimated parameters from the model with lowest BIC\n",
        "coefbest <- coef(regfit.full,best.model)\n",
        "coefbest\n",
        "#'%*%' means matrix multiplication\n",
        "pred <- Xtest[,names(coefbest)]%*%coefbest # Xbeta\n",
        "\n",
        "#3. MSE\n",
        "mean((Boston.test$medv-pred)^2)\n",
        "MSEBS <- mean((Boston.test$medv-pred)^2)"
      ],
      "metadata": {
        "id": "O6qId7kOMKdm"
      },
      "execution_count": null,
      "outputs": []
    },
    {
      "cell_type": "markdown",
      "source": [
        "**Best Subsets has a MSE of 31.01.**\n",
        "\n",
        "#### 3.2.3: Ridge Regression\n",
        "\n",
        "Ridge regression is a model tuning method that is used to analyse any data that suffers from multicollinearity. We’ll use the `glmnet()` function to fit the ridge regression model and specify `alpha=0`."
      ],
      "metadata": {
        "id": "vVjbDGNPMRAo"
      }
    },
    {
      "cell_type": "code",
      "source": [
        "set.seed(1)\n",
        "library(glmnet)\n",
        "train.mat <-  model.matrix(medv ~ . , data = Boston.train)\n",
        "test.mat <-  model.matrix(medv ~ . , data = Boston.test)\n",
        "\n",
        "#cross validation code to find lambda value\n",
        "grid <-  10 ^ seq(4, -2, length = 100)\n",
        "mod.ridge <-  cv.glmnet(train.mat, Boston.train[, \"medv\"],\n",
        "                        alpha = 0, lambda = grid, thresh = 1e-12)\n",
        "lambda.best <-  mod.ridge$lambda.min\n",
        "lambda.best\n",
        "\n",
        "#prediction\n",
        "ridge.pred <-  predict(mod.ridge, newx = test.mat, s = lambda.best)\n",
        "mean((Boston.test[, \"medv\"] - ridge.pred)^2)\n",
        "MSERidge <- mean((Boston.test[, \"medv\"] - ridge.pred)^2)"
      ],
      "metadata": {
        "id": "2WhJuk1NMds3"
      },
      "execution_count": null,
      "outputs": []
    },
    {
      "cell_type": "markdown",
      "source": [
        "**Ridge Regression has a MSE of 27.86.**\n",
        "\n",
        "####3.2.4: Lasso Regression\n",
        "\n",
        "Lasso regression is another model tuning method, similar to ridge, that is used to analyse data with multicollinearity present. We’ll use the `glmnet()` function as well to fit the lasso regression model but specify `alpha=1` instead."
      ],
      "metadata": {
        "id": "JXm5PwBkMd1b"
      }
    },
    {
      "cell_type": "code",
      "source": [
        "#cross validation code to find lambda value\n",
        "mod.lasso <-  cv.glmnet(train.mat, Boston.train[, \"medv\"],\n",
        "                        alpha = 1, lambda = grid, thresh = 1e-12)\n",
        "lambda.best <-  mod.lasso$lambda.min\n",
        "lambda.best\n",
        "\n",
        "#prediction\n",
        "lasso.pred <-  predict(mod.lasso, newx = test.mat, s = lambda.best)\n",
        "mean((Boston.test[, \"medv\"] - lasso.pred)^2)\n",
        "MSELasso <- mean((Boston.test[, \"medv\"] - lasso.pred)^2)\n",
        "\n",
        "#obtain the coefficient estimates\n",
        "mod.lasso <-  glmnet(model.matrix(medv ~ . , data = Boston),\n",
        "                     Boston[, \"medv\"], alpha = 1)\n",
        "predict(mod.lasso, s = lambda.best, type = \"coefficients\")"
      ],
      "metadata": {
        "id": "o0CDyCT8Mn1z"
      },
      "execution_count": null,
      "outputs": []
    },
    {
      "cell_type": "markdown",
      "source": [
        "**Lasso Regression has a MSE of 27.81.**\n",
        "\n",
        "### 3.3: Final Analysis"
      ],
      "metadata": {
        "id": "0D-6AxLvMoAt"
      }
    },
    {
      "cell_type": "code",
      "source": [
        "#creating a table of overall results\n",
        "msevalues <- matrix(c(MSELM, MSEBS, MSERidge, MSELasso), ncol=1)\n",
        "colnames(msevalues) <- c('MSE values')\n",
        "rownames(msevalues) <- c('Least Squares','Best Subset','Ridge', 'Lasso')\n",
        "as.table(msevalues)"
      ],
      "metadata": {
        "id": "NhOG4XdrMyBG"
      },
      "execution_count": null,
      "outputs": []
    },
    {
      "cell_type": "markdown",
      "source": [
        "**Least Squares is the best performing model with the smallest MSE value.**"
      ],
      "metadata": {
        "id": "fGn3_eAbM1HE"
      }
    }
  ]
}