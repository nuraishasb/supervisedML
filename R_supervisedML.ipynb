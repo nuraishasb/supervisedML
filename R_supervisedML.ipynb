{
  "cells": [
    {
      "cell_type": "markdown",
      "metadata": {
        "id": "view-in-github",
        "colab_type": "text"
      },
      "source": [
        "<a href=\"https://colab.research.google.com/github/nuraishasb/supervisedML/blob/main/R_supervisedML.ipynb\" target=\"_parent\"><img src=\"https://colab.research.google.com/assets/colab-badge.svg\" alt=\"Open In Colab\"/></a>"
      ]
    },
    {
      "cell_type": "markdown",
      "metadata": {
        "id": "2m8tZuXCGjnr"
      },
      "source": [
        "# 1 | Introduction\n",
        "\n",
        "In this report, we experiment the use of machine learning operators, mainly Supervised Learning, on 2 different data sets. We begin with the Classification analysis on the Breast Cancer data set, before moving on to the Regression analysis on the Boston data set."
      ]
    },
    {
      "cell_type": "markdown",
      "metadata": {
        "id": "0aT7IHLlGnap"
      },
      "source": [
        "# 2 | Classification Task\n",
        "\n",
        "Classification is a type of supervised machine learning where algorithms learn from the data to predict an outcome or event in the future. In this part of the report, we will be using the Breast Cancer data set to predict the diagnosis of breast cancer."
      ]
    },
    {
      "cell_type": "markdown",
      "metadata": {
        "id": "mZTiI0YRGp97"
      },
      "source": [
        "### 2.1: EDA\n",
        "\n",
        "We use exploratory data analysis (EDA) to investigate data sets and summarize their main characteristics, which can be done by employing data visualization methods.\n",
        "\n",
        "The `str()` function provides information of the structure of the variables. It can be seen that the data set is mostly made up of numerical variables, with the the exception of variables `id`, `diagnosis` and `X`."
      ]
    },
    {
      "cell_type": "code",
      "source": [
        "install.packages(\"googledrive\")\n",
        "library(googledrive)\n",
        "drive_auth(use_oob = TRUE)\n",
        "\n",
        "drive_download(\"breastcancer.csv\", path = \"breastcancer.csv\")\n",
        "\n",
        "data <- read.csv(\"breastcancer.csv\")"
      ],
      "metadata": {
        "colab": {
          "base_uri": "https://localhost:8080/"
        },
        "id": "e_lWJbo7yKfB",
        "outputId": "4b7babc1-07cc-4a16-a568-376e5edf725d"
      },
      "execution_count": 1,
      "outputs": [
        {
          "output_type": "stream",
          "name": "stderr",
          "text": [
            "Installing package into ‘/usr/local/lib/R/site-library’\n",
            "(as ‘lib’ is unspecified)\n",
            "\n",
            "\u001b[1m\u001b[22mThe \u001b[34mgoogledrive\u001b[39m package is requesting access to your Google account.\n",
            "Enter '1' to start a new auth process or select a pre-authorized account.\n",
            "\u001b[1m1\u001b[22m: Send me to the browser for a new auth process.\n",
            "\u001b[1m2\u001b[22m: nuraishasb@gmail.com\n"
          ]
        },
        {
          "name": "stdout",
          "output_type": "stream",
          "text": [
            "Selection: 2\n"
          ]
        }
      ]
    },
    {
      "cell_type": "code",
      "execution_count": 2,
      "metadata": {
        "id": "La4kBtPDGjHI",
        "colab": {
          "base_uri": "https://localhost:8080/"
        },
        "outputId": "76aaeaf3-e8b4-4e29-bddf-27df2e4fdb5e"
      },
      "outputs": [
        {
          "output_type": "stream",
          "name": "stdout",
          "text": [
            "'data.frame':\t569 obs. of  33 variables:\n",
            " $ id                     : int  842302 842517 84300903 84348301 84358402 843786 844359 84458202 844981 84501001 ...\n",
            " $ diagnosis              : chr  \"M\" \"M\" \"M\" \"M\" ...\n",
            " $ radius_mean            : num  18 20.6 19.7 11.4 20.3 ...\n",
            " $ texture_mean           : num  10.4 17.8 21.2 20.4 14.3 ...\n",
            " $ perimeter_mean         : num  122.8 132.9 130 77.6 135.1 ...\n",
            " $ area_mean              : num  1001 1326 1203 386 1297 ...\n",
            " $ smoothness_mean        : num  0.1184 0.0847 0.1096 0.1425 0.1003 ...\n",
            " $ compactness_mean       : num  0.2776 0.0786 0.1599 0.2839 0.1328 ...\n",
            " $ concavity_mean         : num  0.3001 0.0869 0.1974 0.2414 0.198 ...\n",
            " $ concave.points_mean    : num  0.1471 0.0702 0.1279 0.1052 0.1043 ...\n",
            " $ symmetry_mean          : num  0.242 0.181 0.207 0.26 0.181 ...\n",
            " $ fractal_dimension_mean : num  0.0787 0.0567 0.06 0.0974 0.0588 ...\n",
            " $ radius_se              : num  1.095 0.543 0.746 0.496 0.757 ...\n",
            " $ texture_se             : num  0.905 0.734 0.787 1.156 0.781 ...\n",
            " $ perimeter_se           : num  8.59 3.4 4.58 3.44 5.44 ...\n",
            " $ area_se                : num  153.4 74.1 94 27.2 94.4 ...\n",
            " $ smoothness_se          : num  0.0064 0.00522 0.00615 0.00911 0.01149 ...\n",
            " $ compactness_se         : num  0.049 0.0131 0.0401 0.0746 0.0246 ...\n",
            " $ concavity_se           : num  0.0537 0.0186 0.0383 0.0566 0.0569 ...\n",
            " $ concave.points_se      : num  0.0159 0.0134 0.0206 0.0187 0.0188 ...\n",
            " $ symmetry_se            : num  0.03 0.0139 0.0225 0.0596 0.0176 ...\n",
            " $ fractal_dimension_se   : num  0.00619 0.00353 0.00457 0.00921 0.00511 ...\n",
            " $ radius_worst           : num  25.4 25 23.6 14.9 22.5 ...\n",
            " $ texture_worst          : num  17.3 23.4 25.5 26.5 16.7 ...\n",
            " $ perimeter_worst        : num  184.6 158.8 152.5 98.9 152.2 ...\n",
            " $ area_worst             : num  2019 1956 1709 568 1575 ...\n",
            " $ smoothness_worst       : num  0.162 0.124 0.144 0.21 0.137 ...\n",
            " $ compactness_worst      : num  0.666 0.187 0.424 0.866 0.205 ...\n",
            " $ concavity_worst        : num  0.712 0.242 0.45 0.687 0.4 ...\n",
            " $ concave.points_worst   : num  0.265 0.186 0.243 0.258 0.163 ...\n",
            " $ symmetry_worst         : num  0.46 0.275 0.361 0.664 0.236 ...\n",
            " $ fractal_dimension_worst: num  0.1189 0.089 0.0876 0.173 0.0768 ...\n",
            " $ X                      : logi  NA NA NA NA NA NA ...\n"
          ]
        }
      ],
      "source": [
        "#examining the structure of the data set\n",
        "str(data)"
      ]
    },
    {
      "cell_type": "markdown",
      "metadata": {
        "id": "RD2zQdK3HWTt"
      },
      "source": [
        "Variable `X` is redundant as it does not contain any valuable information hence we remove it. The `is.na()` function checks the NA field in a data frame. We take the sum of the function to find the total number of NA values in our data set, which is 0."
      ]
    },
    {
      "cell_type": "code",
      "execution_count": 3,
      "metadata": {
        "colab": {
          "base_uri": "https://localhost:8080/",
          "height": 34
        },
        "id": "ifNTgNrtHYBG",
        "outputId": "e994e9e9-6dcb-42b6-fa6c-8bd4bb667c47"
      },
      "outputs": [
        {
          "output_type": "display_data",
          "data": {
            "text/html": [
              "0"
            ],
            "text/markdown": "0",
            "text/latex": "0",
            "text/plain": [
              "[1] 0"
            ]
          },
          "metadata": {}
        }
      ],
      "source": [
        "#removing columns\n",
        "BC <- data[-c(1,33)]\n",
        "#finding if there are NA values\n",
        "sum(is.na(BC))"
      ]
    },
    {
      "cell_type": "markdown",
      "metadata": {
        "id": "zU-RvsZFHniW"
      },
      "source": [
        "As mentioned above, our aim in this section of the report is to predict the diagnosis of breast cancer, given the measurements of the tumor and breast mass. Thus, our dependent variable is the `diagnosis` variable. We start off by converting the variable into binary, where Malignant takes the value 1, and 0 for Benign."
      ]
    },
    {
      "cell_type": "code",
      "execution_count": 4,
      "metadata": {
        "id": "NYRdiR1iHoZz"
      },
      "outputs": [],
      "source": [
        "#convert `diagnosis` to binary: benign and malignant\n",
        "diagnosis01 <-  rep(0, length(BC$diagnosis)) #create vector of 0s of length `diagnosis`\n",
        "diagnosis01[BC$diagnosis=='M'] <- 1 #condition where if `diagnosis` = M, turn it to 1\n",
        "BC <- data.frame(BC, diagnosis01) #adding to the data frame"
      ]
    },
    {
      "cell_type": "markdown",
      "metadata": {
        "id": "BtKlbxazIEbD"
      },
      "source": [
        "Next, we investigate the association between `diagnosis01` to the other features. We do so by using the `cor()` function, which measures the correlation coefficient value between two vectors."
      ]
    },
    {
      "cell_type": "code",
      "execution_count": 5,
      "metadata": {
        "colab": {
          "base_uri": "https://localhost:8080/",
          "height": 121
        },
        "id": "MOkm4DvUIMlK",
        "outputId": "27e31ba0-4981-4b55-b2e2-729c934b6c89"
      },
      "outputs": [
        {
          "output_type": "display_data",
          "data": {
            "text/plain": [
              "         radius_mean       perimeter_mean            area_mean \n",
              "           0.7300285            0.7426355            0.7089838 \n",
              " concave.points_mean         radius_worst      perimeter_worst \n",
              "           0.7766138            0.7764538            0.7829141 \n",
              "          area_worst concave.points_worst          diagnosis01 \n",
              "           0.7338250            0.7935660            1.0000000 "
            ]
          },
          "metadata": {}
        }
      ],
      "source": [
        "cor <- cor(BC[,-1]) #correlation of data set, excluding columns 1\n",
        "results <- as.table(cor[,31]) #table of correlations between `diagnosis1' with other variables\n",
        "results[abs(results) > 0.7] #high correlations"
      ]
    },
    {
      "cell_type": "markdown",
      "metadata": {
        "id": "J-CRnUu1IagD"
      },
      "source": [
        "Possible values of the correlation coefficient range from -1 to +1, with -1 indicating a perfectly linear negative, and +1 indicating a perfectly linear positive correlation. A correlation coefficient close to 0 suggests little, if any, correlation. The other features seem most likely to be useful in predicting `diagnosis01` are: radius_mean, perimeter_mean, area_mean, concave.points_mean, radius_worst, perimeter_worst, area_worst, and concave.points_worst."
      ]
    },
    {
      "cell_type": "code",
      "source": [
        "#finding multicollinearity between independent variables\n",
        "df <- BC[,c(\"radius_mean\",\"perimeter_mean\",\"area_mean\", \"concave.points_mean\", \"radius_worst\", \"perimeter_worst\", \"area_worst\", \"concave.points_worst\", \"diagnosis01\")]\n",
        "\n",
        "# Calculate the correlation matrix\n",
        "cor_matrix <- cor(df)\n",
        "install.packages(\"corrplot\")\n",
        "library(corrplot)\n",
        "corrplot(cor_matrix, method=\"color\")\n"
      ],
      "metadata": {
        "colab": {
          "base_uri": "https://localhost:8080/",
          "height": 524
        },
        "id": "atXXhzUd30FT",
        "outputId": "79c13ec0-a6f4-4d35-d398-1d5af8cb27ce"
      },
      "execution_count": 6,
      "outputs": [
        {
          "output_type": "stream",
          "name": "stderr",
          "text": [
            "Installing package into ‘/usr/local/lib/R/site-library’\n",
            "(as ‘lib’ is unspecified)\n",
            "\n",
            "corrplot 0.92 loaded\n",
            "\n"
          ]
        },
        {
          "output_type": "display_data",
          "data": {
            "text/plain": [
              "Plot with title “”"
            ],
            "image/png": "[encoded data removed]"
          },
          "metadata": {
            "image/png": {
              "width": 420,
              "height": 420
            }
          }
        }
      ]
    },
    {
      "cell_type": "markdown",
      "source": [
        "radius_mean, perimeter_mean, area_mean, radius_worst, perimeter_worst, area_worst: These variables appear to have very high correlation with each other (values close to 1). This suggests high multicollinearity among these variables.\n",
        "\n",
        "Thus, we will focus on variables like concave.points_mean and concave.points_worst for building our prediction model, as they seem to have stronger relationships with diagnosis01. We will also select one representative variable from each group of highly correlated variables-- radius_mean and radius_worst."
      ],
      "metadata": {
        "id": "wrcl2wT16n8s"
      }
    },
    {
      "cell_type": "code",
      "source": [
        "DF1 <- df[,c(\"radius_mean\", \"concave.points_mean\", \"radius_worst\", \"concave.points_worst\", \"diagnosis01\")]"
      ],
      "metadata": {
        "id": "voTVlR279CkA"
      },
      "execution_count": 7,
      "outputs": []
    },
    {
      "cell_type": "markdown",
      "metadata": {
        "id": "zH7rmf3vIclp"
      },
      "source": [
        "### 2.2: Prediction Diagnosis of Breast Cancer\n",
        "\n",
        "We begin the analysis by splitting the data, using the 70/30 ratio."
      ]
    },
    {
      "cell_type": "code",
      "execution_count": 8,
      "metadata": {
        "id": "5Pu4UfgDJhSb"
      },
      "outputs": [],
      "source": [
        "#to make sure we get the same results for randomization\n",
        "set.seed(13)\n",
        "\n",
        "#taking 70% of the data for training\n",
        "train.size <-  nrow(DF1) * 0.7\n",
        "\n",
        "#taking a sample of the total rows by the number of train.size\n",
        "train <-  sample(1:nrow(DF1), train.size) #sample of the rows of the training set\n",
        "test <-  -train #the other 30% for test - this is done by indexing.\n",
        "\n",
        "#subsetting the data set by the train and test rows respectively\n",
        "DF1.train <-  DF1[train, ]\n",
        "DF1.test <-  DF1[test, ]\n",
        "diagnosis01.test <-  diagnosis01[test]"
      ]
    },
    {
      "cell_type": "markdown",
      "metadata": {
        "id": "shJRxwKzLWfb"
      },
      "source": [
        "#### 2.2.1: Linear Discriminant Analysis\n",
        "\n",
        "The linear discriminant analysis (LDA) finds a linear combination of features that best separates the classes in a data set. We will be using the `lda()` function from the `MASS` package to fit the LDA model to our data.\n",
        "\n",
        "LDA is a dimensionality reduction technique. Assume that a bunch of data belongs to 2 groups. Each observation has different features (different values for each variable) hence we need to create a rule that helps decide which group each observation belong to."
      ]
    },
    {
      "cell_type": "code",
      "execution_count": 9,
      "metadata": {
        "colab": {
          "base_uri": "https://localhost:8080/",
          "height": 908
        },
        "id": "7MQB_i0JLj--",
        "outputId": "7d499819-58bb-4405-a617-92c4868e44af"
      },
      "outputs": [
        {
          "output_type": "display_data",
          "data": {
            "text/plain": [
              "Call:\n",
              "lda(diagnosis01 ~ concave.points_mean + concave.points_worst + \n",
              "    radius_mean + radius_worst, data = DF1.train)\n",
              "\n",
              "Prior probabilities of groups:\n",
              "        0         1 \n",
              "0.6482412 0.3517588 \n",
              "\n",
              "Group means:\n",
              "  concave.points_mean concave.points_worst radius_mean radius_worst\n",
              "0          0.02667181            0.0768624    12.17950     13.42559\n",
              "1          0.09022679            0.1858921    17.55879     21.26043\n",
              "\n",
              "Coefficients of linear discriminants:\n",
              "                           LD1\n",
              "concave.points_mean   8.083511\n",
              "concave.points_worst 12.445380\n",
              "radius_mean          -0.206809\n",
              "radius_worst          0.323188"
            ]
          },
          "metadata": {}
        },
        {
          "output_type": "display_data",
          "data": {
            "text/html": [
              "<style>\n",
              ".list-inline {list-style: none; margin:0; padding: 0}\n",
              ".list-inline>li {display: inline-block}\n",
              ".list-inline>li:not(:last-child)::after {content: \"\\00b7\"; padding: 0 .5ex}\n",
              "</style>\n",
              "<ol class=list-inline><li>'class'</li><li>'posterior'</li><li>'x'</li></ol>\n"
            ],
            "text/markdown": "1. 'class'\n2. 'posterior'\n3. 'x'\n\n\n",
            "text/latex": "\\begin{enumerate*}\n\\item 'class'\n\\item 'posterior'\n\\item 'x'\n\\end{enumerate*}\n",
            "text/plain": [
              "[1] \"class\"     \"posterior\" \"x\"        "
            ]
          },
          "metadata": {}
        },
        {
          "output_type": "display_data",
          "data": {
            "text/html": [
              "<style>\n",
              ".list-inline {list-style: none; margin:0; padding: 0}\n",
              ".list-inline>li {display: inline-block}\n",
              ".list-inline>li:not(:last-child)::after {content: \"\\00b7\"; padding: 0 .5ex}\n",
              "</style>\n",
              "<ol class=list-inline><li>1</li><li>1</li><li>1</li><li>1</li><li>1</li><li>0</li></ol>\n",
              "\n",
              "<details>\n",
              "\t<summary style=display:list-item;cursor:pointer>\n",
              "\t\t<strong>Levels</strong>:\n",
              "\t</summary>\n",
              "\t<style>\n",
              "\t.list-inline {list-style: none; margin:0; padding: 0}\n",
              "\t.list-inline>li {display: inline-block}\n",
              "\t.list-inline>li:not(:last-child)::after {content: \"\\00b7\"; padding: 0 .5ex}\n",
              "\t</style>\n",
              "\t<ol class=list-inline><li>'0'</li><li>'1'</li></ol>\n",
              "</details>"
            ],
            "text/markdown": "1. 1\n2. 1\n3. 1\n4. 1\n5. 1\n6. 0\n\n\n\n**Levels**: 1. '0'\n2. '1'\n\n\n",
            "text/latex": "\\begin{enumerate*}\n\\item 1\n\\item 1\n\\item 1\n\\item 1\n\\item 1\n\\item 0\n\\end{enumerate*}\n\n\\emph{Levels}: \\begin{enumerate*}\n\\item '0'\n\\item '1'\n\\end{enumerate*}\n",
            "text/plain": [
              "[1] 1 1 1 1 1 0\n",
              "Levels: 0 1"
            ]
          },
          "metadata": {}
        },
        {
          "output_type": "display_data",
          "data": {
            "text/html": [
              "<table class=\"dataframe\">\n",
              "<caption>A matrix: 6 × 2 of type dbl</caption>\n",
              "<thead>\n",
              "\t<tr><th></th><th scope=col>0</th><th scope=col>1</th></tr>\n",
              "</thead>\n",
              "<tbody>\n",
              "\t<tr><th scope=row>3</th><td>0.0001064207</td><td>0.9998936</td></tr>\n",
              "\t<tr><th scope=row>4</th><td>0.0038473388</td><td>0.9961527</td></tr>\n",
              "\t<tr><th scope=row>7</th><td>0.0026745886</td><td>0.9973254</td></tr>\n",
              "\t<tr><th scope=row>8</th><td>0.2878924969</td><td>0.7121075</td></tr>\n",
              "\t<tr><th scope=row>10</th><td>0.0465403731</td><td>0.9534596</td></tr>\n",
              "\t<tr><th scope=row>11</th><td>0.8015867369</td><td>0.1984133</td></tr>\n",
              "</tbody>\n",
              "</table>\n"
            ],
            "text/markdown": "\nA matrix: 6 × 2 of type dbl\n\n| <!--/--> | 0 | 1 |\n|---|---|---|\n| 3 | 0.0001064207 | 0.9998936 |\n| 4 | 0.0038473388 | 0.9961527 |\n| 7 | 0.0026745886 | 0.9973254 |\n| 8 | 0.2878924969 | 0.7121075 |\n| 10 | 0.0465403731 | 0.9534596 |\n| 11 | 0.8015867369 | 0.1984133 |\n\n",
            "text/latex": "A matrix: 6 × 2 of type dbl\n\\begin{tabular}{r|ll}\n  & 0 & 1\\\\\n\\hline\n\t3 & 0.0001064207 & 0.9998936\\\\\n\t4 & 0.0038473388 & 0.9961527\\\\\n\t7 & 0.0026745886 & 0.9973254\\\\\n\t8 & 0.2878924969 & 0.7121075\\\\\n\t10 & 0.0465403731 & 0.9534596\\\\\n\t11 & 0.8015867369 & 0.1984133\\\\\n\\end{tabular}\n",
            "text/plain": [
              "   0            1        \n",
              "3  0.0001064207 0.9998936\n",
              "4  0.0038473388 0.9961527\n",
              "7  0.0026745886 0.9973254\n",
              "8  0.2878924969 0.7121075\n",
              "10 0.0465403731 0.9534596\n",
              "11 0.8015867369 0.1984133"
            ]
          },
          "metadata": {}
        },
        {
          "output_type": "display_data",
          "data": {
            "text/html": [
              "<table class=\"dataframe\">\n",
              "<caption>A matrix: 6 × 1 of type dbl</caption>\n",
              "<thead>\n",
              "\t<tr><th></th><th scope=col>LD1</th></tr>\n",
              "</thead>\n",
              "<tbody>\n",
              "\t<tr><th scope=row>3</th><td>3.4538433</td></tr>\n",
              "\t<tr><th scope=row>4</th><td>2.3623075</td></tr>\n",
              "\t<tr><th scope=row>7</th><td>2.4731673</td></tr>\n",
              "\t<tr><th scope=row>8</th><td>0.9487978</td></tr>\n",
              "\t<tr><th scope=row>10</th><td>1.5913326</td></tr>\n",
              "\t<tr><th scope=row>11</th><td>0.2492020</td></tr>\n",
              "</tbody>\n",
              "</table>\n"
            ],
            "text/markdown": "\nA matrix: 6 × 1 of type dbl\n\n| <!--/--> | LD1 |\n|---|---|\n| 3 | 3.4538433 |\n| 4 | 2.3623075 |\n| 7 | 2.4731673 |\n| 8 | 0.9487978 |\n| 10 | 1.5913326 |\n| 11 | 0.2492020 |\n\n",
            "text/latex": "A matrix: 6 × 1 of type dbl\n\\begin{tabular}{r|l}\n  & LD1\\\\\n\\hline\n\t3 & 3.4538433\\\\\n\t4 & 2.3623075\\\\\n\t7 & 2.4731673\\\\\n\t8 & 0.9487978\\\\\n\t10 & 1.5913326\\\\\n\t11 & 0.2492020\\\\\n\\end{tabular}\n",
            "text/plain": [
              "   LD1      \n",
              "3  3.4538433\n",
              "4  2.3623075\n",
              "7  2.4731673\n",
              "8  0.9487978\n",
              "10 1.5913326\n",
              "11 0.2492020"
            ]
          },
          "metadata": {}
        },
        {
          "output_type": "display_data",
          "data": {
            "text/html": [
              "0.087719298245614"
            ],
            "text/markdown": "0.087719298245614",
            "text/latex": "0.087719298245614",
            "text/plain": [
              "[1] 0.0877193"
            ]
          },
          "metadata": {}
        }
      ],
      "source": [
        "#load the package\n",
        "library(MASS)\n",
        "\n",
        "#training the model\n",
        "lda.fit <-  lda(diagnosis01 ~  concave.points_mean + concave.points_worst + radius_mean + radius_worst, data = DF1.train)\n",
        "lda.fit #view model output\n",
        "\n",
        "#predicting on test set\n",
        "lda.pred <- predict(lda.fit, DF1.test)\n",
        "names(lda.pred) #returns the names of the components within the lda.pred list\n",
        "head(lda.pred$class) #view predicted class for first six observations in test set\n",
        "head(lda.pred$posterior) #view posterior probabilities for first six observations in test set; probabilities indicate how confident the model is about each prediction\n",
        "head(lda.pred$x) #view linear discriminants for first six observations in test set\n",
        "\n",
        "\n",
        "#finding misclassification error rate (MER), which gives the proportion of incorrect predictions\n",
        "mean(lda.pred$class != diagnosis01.test) #creates a logical vector where each entry is TRUE if the predicted class does not match the actual class, and FALSE otherwise\n",
        "LDAMER <- mean(lda.pred$class != diagnosis01.test)"
      ]
    },
    {
      "cell_type": "markdown",
      "metadata": {
        "id": "cY4A1WaZeVSo"
      },
      "source": [
        "understanding the outputs:\n",
        "\n",
        "Prior probabilities are the initial probabilities of each class before observing any features of the data. They reflect the proportion of each class in the training dataset. Based on the prior probabilities of groups, approximately 64.82% of the observations in the training dataset belong to class 0 and approximately 35.18% of the observations in the training dataset belong to class 1.\n",
        "\n",
        "Posterior probabilities are the probabilities of each class given the observed features. They are calculated using Bayes' theorem and combine the prior probabilities with the likelihood of the observed data under each class.\n"
      ]
    },
    {
      "cell_type": "markdown",
      "metadata": {
        "id": "sRnpYQaGIuie"
      },
      "source": [
        "LDA has a 8.77% test error rate.\n"
      ]
    },
    {
      "cell_type": "markdown",
      "metadata": {
        "id": "3cbSBFC_N9Xk"
      },
      "source": [
        "#### 2.2.2: Quadratic Discriminant Analysis\n",
        "\n",
        "The quadratic discriminant analysis (QDA) finds a non-linear combination of features that best separates the classes in a data set. Similarly, we will be using the `qda()` function from the `MASS` package to fit the QDA model to our data.\n",
        "\n",
        "QDA works similarly to LDA, but instead of finding the best linear line, QDA finds the best quadratic, or curve line, to separate the 2 groupings."
      ]
    },
    {
      "cell_type": "code",
      "execution_count": 10,
      "metadata": {
        "colab": {
          "base_uri": "https://localhost:8080/",
          "height": 532
        },
        "id": "uEoQl7i7N-Kl",
        "outputId": "6488f0e3-c953-4742-8791-87ba84f5fe89"
      },
      "outputs": [
        {
          "output_type": "display_data",
          "data": {
            "text/plain": [
              "Call:\n",
              "qda(diagnosis01 ~ concave.points_mean + concave.points_worst + \n",
              "    radius_mean + radius_worst, data = DF1.train)\n",
              "\n",
              "Prior probabilities of groups:\n",
              "        0         1 \n",
              "0.6482412 0.3517588 \n",
              "\n",
              "Group means:\n",
              "  concave.points_mean concave.points_worst radius_mean radius_worst\n",
              "0          0.02667181            0.0768624    12.17950     13.42559\n",
              "1          0.09022679            0.1858921    17.55879     21.26043"
            ]
          },
          "metadata": {}
        },
        {
          "output_type": "display_data",
          "data": {
            "text/html": [
              "<style>\n",
              ".list-inline {list-style: none; margin:0; padding: 0}\n",
              ".list-inline>li {display: inline-block}\n",
              ".list-inline>li:not(:last-child)::after {content: \"\\00b7\"; padding: 0 .5ex}\n",
              "</style>\n",
              "<ol class=list-inline><li>'class'</li><li>'posterior'</li></ol>\n"
            ],
            "text/markdown": "1. 'class'\n2. 'posterior'\n\n\n",
            "text/latex": "\\begin{enumerate*}\n\\item 'class'\n\\item 'posterior'\n\\end{enumerate*}\n",
            "text/plain": [
              "[1] \"class\"     \"posterior\""
            ]
          },
          "metadata": {}
        },
        {
          "output_type": "display_data",
          "data": {
            "text/html": [
              "<style>\n",
              ".list-inline {list-style: none; margin:0; padding: 0}\n",
              ".list-inline>li {display: inline-block}\n",
              ".list-inline>li:not(:last-child)::after {content: \"\\00b7\"; padding: 0 .5ex}\n",
              "</style>\n",
              "<ol class=list-inline><li>1</li><li>1</li><li>1</li><li>1</li><li>1</li><li>1</li></ol>\n",
              "\n",
              "<details>\n",
              "\t<summary style=display:list-item;cursor:pointer>\n",
              "\t\t<strong>Levels</strong>:\n",
              "\t</summary>\n",
              "\t<style>\n",
              "\t.list-inline {list-style: none; margin:0; padding: 0}\n",
              "\t.list-inline>li {display: inline-block}\n",
              "\t.list-inline>li:not(:last-child)::after {content: \"\\00b7\"; padding: 0 .5ex}\n",
              "\t</style>\n",
              "\t<ol class=list-inline><li>'0'</li><li>'1'</li></ol>\n",
              "</details>"
            ],
            "text/markdown": "1. 1\n2. 1\n3. 1\n4. 1\n5. 1\n6. 1\n\n\n\n**Levels**: 1. '0'\n2. '1'\n\n\n",
            "text/latex": "\\begin{enumerate*}\n\\item 1\n\\item 1\n\\item 1\n\\item 1\n\\item 1\n\\item 1\n\\end{enumerate*}\n\n\\emph{Levels}: \\begin{enumerate*}\n\\item '0'\n\\item '1'\n\\end{enumerate*}\n",
            "text/plain": [
              "[1] 1 1 1 1 1 1\n",
              "Levels: 0 1"
            ]
          },
          "metadata": {}
        },
        {
          "output_type": "display_data",
          "data": {
            "text/html": [
              "<table class=\"dataframe\">\n",
              "<caption>A matrix: 6 × 2 of type dbl</caption>\n",
              "<thead>\n",
              "\t<tr><th></th><th scope=col>0</th><th scope=col>1</th></tr>\n",
              "</thead>\n",
              "<tbody>\n",
              "\t<tr><th scope=row>3</th><td>4.415984e-15</td><td>1.0000000</td></tr>\n",
              "\t<tr><th scope=row>4</th><td>2.624862e-10</td><td>1.0000000</td></tr>\n",
              "\t<tr><th scope=row>7</th><td>3.469729e-13</td><td>1.0000000</td></tr>\n",
              "\t<tr><th scope=row>8</th><td>6.456856e-05</td><td>0.9999354</td></tr>\n",
              "\t<tr><th scope=row>10</th><td>4.798025e-04</td><td>0.9995202</td></tr>\n",
              "\t<tr><th scope=row>11</th><td>4.299438e-03</td><td>0.9957006</td></tr>\n",
              "</tbody>\n",
              "</table>\n"
            ],
            "text/markdown": "\nA matrix: 6 × 2 of type dbl\n\n| <!--/--> | 0 | 1 |\n|---|---|---|\n| 3 | 4.415984e-15 | 1.0000000 |\n| 4 | 2.624862e-10 | 1.0000000 |\n| 7 | 3.469729e-13 | 1.0000000 |\n| 8 | 6.456856e-05 | 0.9999354 |\n| 10 | 4.798025e-04 | 0.9995202 |\n| 11 | 4.299438e-03 | 0.9957006 |\n\n",
            "text/latex": "A matrix: 6 × 2 of type dbl\n\\begin{tabular}{r|ll}\n  & 0 & 1\\\\\n\\hline\n\t3 & 4.415984e-15 & 1.0000000\\\\\n\t4 & 2.624862e-10 & 1.0000000\\\\\n\t7 & 3.469729e-13 & 1.0000000\\\\\n\t8 & 6.456856e-05 & 0.9999354\\\\\n\t10 & 4.798025e-04 & 0.9995202\\\\\n\t11 & 4.299438e-03 & 0.9957006\\\\\n\\end{tabular}\n",
            "text/plain": [
              "   0            1        \n",
              "3  4.415984e-15 1.0000000\n",
              "4  2.624862e-10 1.0000000\n",
              "7  3.469729e-13 1.0000000\n",
              "8  6.456856e-05 0.9999354\n",
              "10 4.798025e-04 0.9995202\n",
              "11 4.299438e-03 0.9957006"
            ]
          },
          "metadata": {}
        },
        {
          "output_type": "display_data",
          "data": {
            "text/html": [
              "0.0701754385964912"
            ],
            "text/markdown": "0.0701754385964912",
            "text/latex": "0.0701754385964912",
            "text/plain": [
              "[1] 0.07017544"
            ]
          },
          "metadata": {}
        }
      ],
      "source": [
        "# learn the model\n",
        "qda.fit <-  qda(diagnosis01 ~ concave.points_mean + concave.points_worst + radius_mean + radius_worst,\n",
        "                data = DF1.train)\n",
        "\n",
        "qda.fit #view model output\n",
        "\n",
        "# form the prediction on test set\n",
        "qda.pred <-  predict(qda.fit, DF1.test)\n",
        "names(qda.pred)\n",
        "head(qda.pred$class) #view predicted class for first six observations in test set\n",
        "head(qda.pred$posterior) #view posterior probabilities for first six observations in test set\n",
        "\n",
        "#compute estimate of test error\n",
        "#mean where prediction does not match the real value\n",
        "mean(qda.pred$class != diagnosis01.test)\n",
        "QDAMER <- mean(qda.pred$class != diagnosis01.test)"
      ]
    },
    {
      "cell_type": "markdown",
      "metadata": {
        "id": "N0AqyaNFOBLB"
      },
      "source": [
        "The prior probabilities indicates that class 0 is nearly twice as prevalent as class 1 in the training data. The posterior probabilities on the other hand indicate that the model is extremely confident in predicting class 1 for these observations, as the posterior probabilities for class 1 are very close to 1 (and the probabilities for class 0 are close to 0).\n",
        "\n",
        "QDA has a 7.02% test error rate. Since the MER is low, the model is likely performing well despite the extreme confidence in predictions.\n"
      ]
    },
    {
      "cell_type": "markdown",
      "source": [
        "#### 2.2.3: Logistic Regression\n",
        "\n",
        "Logistic regression predicts the categorical dependent variable using a given set of independent variables. We will be using the `glm()` function and specify `family=”binomial”` so that R fits a logistic regression model to the data set. GLM stands for general linear model."
      ],
      "metadata": {
        "id": "wRIGEQK7rm7b"
      }
    },
    {
      "cell_type": "code",
      "execution_count": 11,
      "metadata": {
        "colab": {
          "base_uri": "https://localhost:8080/",
          "height": 1000
        },
        "id": "Eb2hTY0YODvn",
        "outputId": "1336b8e5-f826-4512-e898-38bf135410bb"
      },
      "outputs": [
        {
          "output_type": "stream",
          "name": "stderr",
          "text": [
            "Warning message:\n",
            "“glm.fit: fitted probabilities numerically 0 or 1 occurred”\n"
          ]
        },
        {
          "output_type": "display_data",
          "data": {
            "text/plain": [
              "\n",
              "Call:\n",
              "glm(formula = diagnosis01 ~ concave.points_mean + concave.points_worst + \n",
              "    radius_mean + radius_worst, family = binomial, data = DF1.train)\n",
              "\n",
              "Coefficients:\n",
              "                     Estimate Std. Error z value Pr(>|z|)    \n",
              "(Intercept)          -21.9668     3.9878  -5.508 3.62e-08 ***\n",
              "concave.points_mean   43.3548    27.8526   1.557   0.1196    \n",
              "concave.points_worst  27.1605    13.5920   1.998   0.0457 *  \n",
              "radius_mean           -1.9825     0.6869  -2.886   0.0039 ** \n",
              "radius_worst           2.7236     0.6527   4.173 3.01e-05 ***\n",
              "---\n",
              "Signif. codes:  0 ‘***’ 0.001 ‘**’ 0.01 ‘*’ 0.05 ‘.’ 0.1 ‘ ’ 1\n",
              "\n",
              "(Dispersion parameter for binomial family taken to be 1)\n",
              "\n",
              "    Null deviance: 516.229  on 397  degrees of freedom\n",
              "Residual deviance:  70.058  on 393  degrees of freedom\n",
              "AIC: 80.058\n",
              "\n",
              "Number of Fisher Scoring iterations: 9\n"
            ]
          },
          "metadata": {}
        },
        {
          "output_type": "stream",
          "name": "stderr",
          "text": [
            "Installing package into ‘/usr/local/lib/R/site-library’\n",
            "(as ‘lib’ is unspecified)\n",
            "\n",
            "Loading required package: fields\n",
            "\n",
            "Loading required package: spam\n",
            "\n",
            "Spam version 2.10-0 (2023-10-23) is loaded.\n",
            "Type 'help( Spam)' or 'demo( spam)' for a short introduction \n",
            "and overview of this package.\n",
            "Help for individual functions is also obtained by adding the\n",
            "suffix '.spam' to the function name, e.g. 'help( chol.spam)'.\n",
            "\n",
            "\n",
            "Attaching package: ‘spam’\n",
            "\n",
            "\n",
            "The following objects are masked from ‘package:base’:\n",
            "\n",
            "    backsolve, forwardsolve\n",
            "\n",
            "\n",
            "Loading required package: viridisLite\n",
            "\n",
            "\n",
            "Try help(fields) to get started.\n",
            "\n",
            "Loading required package: boot\n",
            "\n",
            "Loading required package: CircStats\n",
            "\n",
            "Loading required package: dtw\n",
            "\n",
            "Loading required package: proxy\n",
            "\n",
            "\n",
            "Attaching package: ‘proxy’\n",
            "\n",
            "\n",
            "The following object is masked from ‘package:spam’:\n",
            "\n",
            "    as.matrix\n",
            "\n",
            "\n",
            "The following objects are masked from ‘package:stats’:\n",
            "\n",
            "    as.dist, dist\n",
            "\n",
            "\n",
            "The following object is masked from ‘package:base’:\n",
            "\n",
            "    as.matrix\n",
            "\n",
            "\n",
            "Loaded dtw v1.23-1. See ?dtw for help, citation(\"dtw\") for use in publication.\n",
            "\n",
            "\n"
          ]
        },
        {
          "output_type": "display_data",
          "data": {
            "text/html": [
              "0.981341189674523"
            ],
            "text/markdown": "0.981341189674523",
            "text/latex": "0.981341189674523",
            "text/plain": [
              "[1] 0.9813412"
            ]
          },
          "metadata": {}
        },
        {
          "output_type": "display_data",
          "data": {
            "text/html": [
              "0.0526315789473684"
            ],
            "text/markdown": "0.0526315789473684",
            "text/latex": "0.0526315789473684",
            "text/plain": [
              "[1] 0.05263158"
            ]
          },
          "metadata": {}
        },
        {
          "output_type": "display_data",
          "data": {
            "text/plain": [
              "Plot with title “ROC Curve”"
            ],
            "image/png": "[encoded data removed]"
          },
          "metadata": {
            "image/png": {
              "width": 420,
              "height": 420
            }
          }
        }
      ],
      "source": [
        "#training model\n",
        "glm.fit <-  glm(diagnosis01 ~ concave.points_mean + concave.points_worst + radius_mean + radius_worst,\n",
        "              data = DF1.train,\n",
        "              family = binomial)\n",
        "summary(glm.fit) #view model summary\n",
        "\n",
        "#obtain predictions on test set\n",
        "glm.probs <-  predict(glm.fit, DF1.test, type = \"response\") #probability that each observation is malignant\n",
        "#using a threshold to decide on final diagnosis\n",
        "glm.pred <-  rep(0, length(glm.probs))\n",
        "glm.pred[glm.probs > 0.7] <- 1 #threshold chosen is 0.7; any observation with a probability greater than 0.7 is classified as malignant (1), and others as benign (0)\n",
        "\n",
        "#creating ROC curve\n",
        "install.packages(\"verification\")\n",
        "library(verification)\n",
        "roc.plot(diagnosis01.test, glm.probs, xlab = \"False Positive Rate\",\n",
        "ylab = \"True Positive Rate\")\n",
        "#calculating AUC value\n",
        "roc.area(diagnosis01.test, glm.probs)$A\n",
        "\n",
        "#evaluate prediction quality\n",
        "mean(glm.pred != diagnosis01.test)\n",
        "LogRegMER <- mean(glm.pred != diagnosis01.test)"
      ]
    },
    {
      "cell_type": "markdown",
      "metadata": {
        "id": "d6XnPngFOGYZ"
      },
      "source": [
        "understanding the output:\n",
        "The ROC curve is close to the top-left corner. This suggests that the model has a high true positive rate and a low false positive rate, indicating good performance.\n",
        "An AUC of 0.98 indicates that there is a 98% chance that the model will correctly distinguish between a randomly chosen positive instance (e.g., a malignant tumor) and a randomly chosen negative instance (e.g., a benign tumor).\n",
        "\n",
        "\n",
        "Logistic Regression has a 5.26% test error rate.\n",
        "\n"
      ]
    },
    {
      "cell_type": "markdown",
      "source": [
        "#### 2.2.4: K-Nearest Neighbour\n",
        "\n",
        "The K-Nearest Neighbor (KNN) algorithm stores all the available data and classifies a new data point based on the similarity. We will be using the `knn()` function from the `class` package to fit the KNN model to our data."
      ],
      "metadata": {
        "id": "fODW8r7ruC8c"
      }
    },
    {
      "cell_type": "code",
      "execution_count": 12,
      "metadata": {
        "colab": {
          "base_uri": "https://localhost:8080/",
          "height": 69
        },
        "id": "zHOXbyEfOI5j",
        "outputId": "1d634e6f-a6d2-41c3-c704-ff2911009c70"
      },
      "outputs": [
        {
          "output_type": "display_data",
          "data": {
            "text/html": [
              "0.0935672514619883"
            ],
            "text/markdown": "0.0935672514619883",
            "text/latex": "0.0935672514619883",
            "text/plain": [
              "[1] 0.09356725"
            ]
          },
          "metadata": {}
        },
        {
          "output_type": "display_data",
          "data": {
            "text/html": [
              "0.0818713450292398"
            ],
            "text/markdown": "0.0818713450292398",
            "text/latex": "0.0818713450292398",
            "text/plain": [
              "[1] 0.08187135"
            ]
          },
          "metadata": {}
        },
        {
          "output_type": "display_data",
          "data": {
            "text/html": [
              "0.0994152046783626"
            ],
            "text/markdown": "0.0994152046783626",
            "text/latex": "0.0994152046783626",
            "text/plain": [
              "[1] 0.0994152"
            ]
          },
          "metadata": {}
        }
      ],
      "source": [
        "library(class)\n",
        "\n",
        "#binding the feature values by column for the train and test set respectively.\n",
        "train.X <- cbind(DF1$radius_mean, DF1$concave.points_mean, DF1$radius_worst, DF1$concave.points_worst)[train,]\n",
        "\n",
        "test.X <- cbind(DF1$radius_mean, DF1$concave.points_mean, DF1$radius_worst, DF1$concave.points_worst)[test,]\n",
        "\n",
        "train.diagnosis01 <-  diagnosis01[train]\n",
        "\n",
        "set.seed(13)\n",
        "# KNN (k=7)\n",
        "knn.pred7 <-  knn(train.X, test.X, train.diagnosis01, k = 7)\n",
        "mean(knn.pred7 != diagnosis01.test)\n",
        "KNN7MER <- mean(knn.pred7 != diagnosis01.test)\n",
        "\n",
        "# KNN (k=12)\n",
        "knn.pred12 <-  knn(train.X, test.X, train.diagnosis01, k = 12)\n",
        "mean(knn.pred12 != diagnosis01.test)\n",
        "KNN12MER <- mean(knn.pred12 != diagnosis01.test)\n",
        "\n",
        "# KNN (k=23)\n",
        "knn.pred23 <-  knn(train.X, test.X, train.diagnosis01, k = 23)\n",
        "mean(knn.pred23 != diagnosis01.test)\n",
        "KNN23MER <- mean(knn.pred23 != diagnosis01.test)"
      ]
    },
    {
      "cell_type": "markdown",
      "metadata": {
        "id": "u2eQxs5rONUY"
      },
      "source": [
        "**k=7 has a 9.36% test error rate. k=12 has 8.19% test error rate. k=23 has a 9.94% test error rate. K of 12 seems to perform the best.**\n",
        "\n",
        "We can try cross-validation to find the best K value."
      ]
    },
    {
      "cell_type": "markdown",
      "source": [
        "\n",
        "### 2.3: Final Analyisis"
      ],
      "metadata": {
        "id": "xs3Fc4c9ySFJ"
      }
    },
    {
      "cell_type": "code",
      "execution_count": 13,
      "metadata": {
        "colab": {
          "base_uri": "https://localhost:8080/",
          "height": 139
        },
        "id": "hxD83_NVOOHq",
        "outputId": "1e4b6c39-293d-4f97-b8ad-21ec6de9cd4c"
      },
      "outputs": [
        {
          "output_type": "display_data",
          "data": {
            "text/plain": [
              "           MER values\n",
              "LDA        0.08771930\n",
              "QDA        0.07017544\n",
              "Log Reg    0.05263158\n",
              "KNN (K=7)  0.09356725\n",
              "KNN (K=12) 0.08187135\n",
              "KNN (K=23) 0.09941520"
            ]
          },
          "metadata": {}
        }
      ],
      "source": [
        "#creating a table of overall results\n",
        "mervalues <- matrix(c(LDAMER, QDAMER, LogRegMER, KNN7MER, KNN12MER, KNN23MER), ncol=1)\n",
        "colnames(mervalues) <- c('MER values')\n",
        "rownames(mervalues) <- c('LDA','QDA','Log Reg', 'KNN (K=7)', 'KNN (K=12)', 'KNN (K=23)')\n",
        "as.table(mervalues)"
      ]
    },
    {
      "cell_type": "markdown",
      "metadata": {
        "id": "dClcamiEORZV"
      },
      "source": [
        "**Logistic Regression achieved the lowest test error rate.**\n",
        "Logistic Regression appears to be the most suitable model for this dataset based on the MER values. If interpretability is important, Logistic Regression and LDA might be preferable due to their simpler models compared to QDA and KNN."
      ]
    },
    {
      "cell_type": "markdown",
      "metadata": {
        "id": "pOQowxPpOTTu"
      },
      "source": [
        "# 3 | Supervised Learning: Regression\n",
        "\n",
        "Regression is a type of supervised machine learning where algorithms learn from the data to predict a continuous value. In this part of the report, we will be using the Boston data set from the MASS package to predict the median value of owner-occupied homes in suburbs of Boston."
      ]
    },
    {
      "cell_type": "markdown",
      "metadata": {
        "id": "ZGVLK1OzKdO1"
      },
      "source": [
        "### 3.1: EDA\n",
        "\n",
        "Once again, we start off with some exploratory data analysis."
      ]
    },
    {
      "cell_type": "code",
      "execution_count": 14,
      "metadata": {
        "id": "NDBe-tZ6KfXi",
        "colab": {
          "base_uri": "https://localhost:8080/",
          "height": 295
        },
        "outputId": "fe3fe98a-23ec-46da-b5a6-bb0c9b12e858"
      },
      "outputs": [
        {
          "output_type": "display_data",
          "data": {
            "text/html": [
              "0"
            ],
            "text/markdown": "0",
            "text/latex": "0",
            "text/plain": [
              "[1] 0"
            ]
          },
          "metadata": {}
        },
        {
          "output_type": "stream",
          "name": "stdout",
          "text": [
            "'data.frame':\t506 obs. of  14 variables:\n",
            " $ crim   : num  -0.419 -0.417 -0.417 -0.416 -0.412 ...\n",
            " $ zn     : num  0.285 -0.487 -0.487 -0.487 -0.487 ...\n",
            " $ indus  : num  -1.287 -0.593 -0.593 -1.306 -1.306 ...\n",
            " $ chas   : num  -0.272 -0.272 -0.272 -0.272 -0.272 ...\n",
            " $ nox    : num  -0.144 -0.74 -0.74 -0.834 -0.834 ...\n",
            " $ rm     : num  0.413 0.194 1.281 1.015 1.227 ...\n",
            " $ age    : num  -0.12 0.367 -0.266 -0.809 -0.511 ...\n",
            " $ dis    : num  0.14 0.557 0.557 1.077 1.077 ...\n",
            " $ rad    : num  -0.982 -0.867 -0.867 -0.752 -0.752 ...\n",
            " $ tax    : num  -0.666 -0.986 -0.986 -1.105 -1.105 ...\n",
            " $ ptratio: num  -1.458 -0.303 -0.303 0.113 0.113 ...\n",
            " $ black  : num  0.441 0.441 0.396 0.416 0.441 ...\n",
            " $ lstat  : num  -1.074 -0.492 -1.208 -1.36 -1.025 ...\n",
            " $ medv   : num  0.16 -0.101 1.323 1.182 1.486 ...\n"
          ]
        }
      ],
      "source": [
        "#loading the data\n",
        "library(MASS)\n",
        "\n",
        "#checking for NA value\n",
        "sum(is.na(Boston))\n",
        "\n",
        "#standardize the data using Z-score standardization\n",
        "scaled_data <- scale(Boston)\n",
        "\n",
        "#convert the scaled matrix to a DataFrame\n",
        "df <- as.data.frame(scaled_data)\n",
        "\n",
        "#assign the original column names to the scaled DataFrame\n",
        "colnames(df) <- colnames(Boston)\n",
        "\n",
        "#observing the structure\n",
        "str(df)"
      ]
    },
    {
      "cell_type": "code",
      "source": [
        "cor1 <- cor(df) #correlation of data set\n",
        "results <- as.table(cor1[,14]) #table of correlations between `medv' with other variables\n",
        "results[abs(results) > 0.5] #high correlations"
      ],
      "metadata": {
        "colab": {
          "base_uri": "https://localhost:8080/",
          "height": 52
        },
        "id": "ysoxbbmt2EP-",
        "outputId": "20f09908-7a11-4c37-f5e0-40b8b51a0487"
      },
      "execution_count": 15,
      "outputs": [
        {
          "output_type": "display_data",
          "data": {
            "text/plain": [
              "        rm    ptratio      lstat       medv \n",
              " 0.6953599 -0.5077867 -0.7376627  1.0000000 "
            ]
          },
          "metadata": {}
        }
      ]
    },
    {
      "cell_type": "code",
      "source": [
        "#finding multicollinearity between independent variables\n",
        "df1 <- df[,c(\"rm\",\"ptratio\",\"lstat\", \"medv\")]\n",
        "\n",
        "#calculate the correlation matrix\n",
        "cor_matrix <- cor(df1)\n",
        "library(corrplot)\n",
        "corrplot(cor_matrix, method=\"number\")"
      ],
      "metadata": {
        "colab": {
          "base_uri": "https://localhost:8080/",
          "height": 437
        },
        "id": "NsSZ58-2767T",
        "outputId": "34daaceb-e0ca-4616-f2f8-0f6c5d5a9459"
      },
      "execution_count": 16,
      "outputs": [
        {
          "output_type": "display_data",
          "data": {
            "text/plain": [
              "Plot with title “”"
            ],
            "image/png": "[encoded data removed]"
          },
          "metadata": {
            "image/png": {
              "width": 420,
              "height": 420
            }
          }
        }
      ]
    },
    {
      "cell_type": "markdown",
      "metadata": {
        "id": "KYrLdtFGKwln"
      },
      "source": [
        "### 3.2: Predicting the Median Housing Value in Boston\n",
        "\n",
        "We start off by splitting the data into training and testing sets using the same 70/30 ratio."
      ]
    },
    {
      "cell_type": "code",
      "execution_count": 17,
      "metadata": {
        "id": "6qXMBxfhKwu_"
      },
      "outputs": [],
      "source": [
        "#split the data\n",
        "train.size2 <-  nrow(df) * 0.7 #taking 70% of the data for training\n",
        "\n",
        "#taking a sample of the total rows by the number of train.size\n",
        "train2 <-  sample(1:nrow(df), train.size2) #sample of the rows of the training set\n",
        "test2 <-  -train2 #the other 30% for test - this is done by indexing.\n",
        "\n",
        "#subset the Boston data set by the train and test rows respectively\n",
        "df.train <-  df[train2, ]\n",
        "df.test <-  df[test2, ]"
      ]
    },
    {
      "cell_type": "markdown",
      "metadata": {
        "id": "VVpmvdHgK6Wm"
      },
      "source": [
        "#### 3.2.1: Linear Regression\n",
        "\n",
        "Linear regression model is a basic and commonly used type of predictive analysis - it assumes a linear relationship between the independent variable and the dependent variable, and aims to find the best-fitting line that describes the relationship."
      ]
    },
    {
      "cell_type": "code",
      "execution_count": 18,
      "metadata": {
        "id": "7u1gzGZxL5Eo",
        "colab": {
          "base_uri": "https://localhost:8080/",
          "height": 382
        },
        "outputId": "27bd7b96-dda5-441c-9899-2882edba8503"
      },
      "outputs": [
        {
          "output_type": "display_data",
          "data": {
            "text/plain": [
              "\n",
              "Call:\n",
              "lm(formula = medv ~ rm + ptratio + lstat, data = df.train)\n",
              "\n",
              "Residuals:\n",
              "     Min       1Q   Median       3Q      Max \n",
              "-1.43657 -0.32983 -0.09082  0.20075  3.14668 \n",
              "\n",
              "Coefficients:\n",
              "              Estimate Std. Error t value Pr(>|t|)    \n",
              "(Intercept)  0.0005739  0.0293712   0.020    0.984    \n",
              "rm           0.3057953  0.0372837   8.202 4.56e-15 ***\n",
              "ptratio     -0.2374358  0.0310105  -7.657 1.88e-13 ***\n",
              "lstat       -0.4582276  0.0385202 -11.896  < 2e-16 ***\n",
              "---\n",
              "Signif. codes:  0 ‘***’ 0.001 ‘**’ 0.01 ‘*’ 0.05 ‘.’ 0.1 ‘ ’ 1\n",
              "\n",
              "Residual standard error: 0.5525 on 350 degrees of freedom\n",
              "Multiple R-squared:  0.6815,\tAdjusted R-squared:  0.6787 \n",
              "F-statistic: 249.6 on 3 and 350 DF,  p-value: < 2.2e-16\n"
            ]
          },
          "metadata": {}
        },
        {
          "output_type": "display_data",
          "data": {
            "text/html": [
              "0.368348993177706"
            ],
            "text/markdown": "0.368348993177706",
            "text/latex": "0.368348993177706",
            "text/plain": [
              "[1] 0.368349"
            ]
          },
          "metadata": {}
        }
      ],
      "source": [
        "#fitting a linear model using least squares on training data\n",
        "lm.fit <-  lm(medv ~ rm + ptratio + lstat, data = df.train)\n",
        "#view model summary\n",
        "summary(lm.fit)\n",
        "\n",
        "#predicting on test data\n",
        "lm.pred <-  predict(lm.fit, df.test)\n",
        "\n",
        "#evaluate prediction quality using MSE\n",
        "mean((df.test[, \"medv\"] - lm.pred)^2)\n",
        "MSELM <- mean((df.test[, \"medv\"] - lm.pred)^2)"
      ]
    },
    {
      "cell_type": "markdown",
      "metadata": {
        "id": "SkPP5nBHL9ug"
      },
      "source": [
        "**Least Squares has a MSE of 36.83.**\n",
        "\n",
        "We now try fitting a least squares model with an interaction term."
      ]
    },
    {
      "cell_type": "code",
      "execution_count": 19,
      "metadata": {
        "id": "0eUjcAKuMD9d",
        "colab": {
          "base_uri": "https://localhost:8080/",
          "height": 399
        },
        "outputId": "837d06eb-b2df-4af7-fd7e-fb0c80c2b610"
      },
      "outputs": [
        {
          "output_type": "display_data",
          "data": {
            "text/plain": [
              "\n",
              "Call:\n",
              "lm(formula = medv ~ rm + ptratio + lstat + rm * lstat, data = df.train)\n",
              "\n",
              "Residuals:\n",
              "    Min      1Q  Median      3Q     Max \n",
              "-2.1225 -0.2576 -0.0629  0.2048  3.4418 \n",
              "\n",
              "Coefficients:\n",
              "            Estimate Std. Error t value Pr(>|t|)    \n",
              "(Intercept) -0.15186    0.02857  -5.315 1.91e-07 ***\n",
              "rm           0.21502    0.03296   6.524 2.40e-10 ***\n",
              "ptratio     -0.15444    0.02758  -5.599 4.36e-08 ***\n",
              "lstat       -0.63539    0.03656 -17.378  < 2e-16 ***\n",
              "rm:lstat    -0.24884    0.02205 -11.283  < 2e-16 ***\n",
              "---\n",
              "Signif. codes:  0 ‘***’ 0.001 ‘**’ 0.01 ‘*’ 0.05 ‘.’ 0.1 ‘ ’ 1\n",
              "\n",
              "Residual standard error: 0.4736 on 349 degrees of freedom\n",
              "Multiple R-squared:  0.7666,\tAdjusted R-squared:  0.7639 \n",
              "F-statistic: 286.6 on 4 and 349 DF,  p-value: < 2.2e-16\n"
            ]
          },
          "metadata": {}
        },
        {
          "output_type": "display_data",
          "data": {
            "text/html": [
              "0.29811417726829"
            ],
            "text/markdown": "0.29811417726829",
            "text/latex": "0.29811417726829",
            "text/plain": [
              "[1] 0.2981142"
            ]
          },
          "metadata": {}
        }
      ],
      "source": [
        "#fitting a linear model using least squares on training data\n",
        "lm.fit1 <-  lm(medv ~ rm + ptratio + lstat + rm*lstat, data = df.train)\n",
        "#view model summary\n",
        "summary(lm.fit1)\n",
        "\n",
        "#predicting on test data\n",
        "lm.pred1 <-  predict(lm.fit1, df.test)\n",
        "\n",
        "#evaluate prediction quality using MSE\n",
        "mean((df.test[, \"medv\"] - lm.pred1)^2)\n",
        "MSELMX <- mean((df.test[, \"medv\"] - lm.pred1)^2)"
      ]
    },
    {
      "cell_type": "markdown",
      "source": [
        "This method allows the model to capture not only the main effects of each predictor but also the combined effect of two (or more) predictors interacting with each other. Least Squares with an interaction term has a MSE of 29.81."
      ],
      "metadata": {
        "id": "3l-TdySNOPW_"
      }
    },
    {
      "cell_type": "markdown",
      "metadata": {
        "id": "YkYmqTiYMEOb"
      },
      "source": [
        "#### 3.2.2: Best Subset\n",
        "\n",
        "The best subset algorithm helps us pick the best model out of the many models we can potentially build with 13 features and one target. The `regsubsets()` function is for model selection, done by exhaustive search. It fits the input to every output/group of outputs, compare the models and find the one with the least error/BIC."
      ]
    },
    {
      "cell_type": "code",
      "execution_count": 20,
      "metadata": {
        "id": "O6qId7kOMKdm",
        "colab": {
          "base_uri": "https://localhost:8080/",
          "height": 541
        },
        "outputId": "4eefbf99-344c-49a2-c362-a8e0b5fe3a8b"
      },
      "outputs": [
        {
          "output_type": "stream",
          "name": "stderr",
          "text": [
            "Installing package into ‘/usr/local/lib/R/site-library’\n",
            "(as ‘lib’ is unspecified)\n",
            "\n"
          ]
        },
        {
          "output_type": "display_data",
          "data": {
            "text/html": [
              "<style>\n",
              ".dl-inline {width: auto; margin:0; padding: 0}\n",
              ".dl-inline>dt, .dl-inline>dd {float: none; width: auto; display: inline-block}\n",
              ".dl-inline>dt::after {content: \":\\0020\"; padding-right: .5ex}\n",
              ".dl-inline>dt:not(:first-of-type) {padding-left: .5ex}\n",
              "</style><dl class=dl-inline><dt>(Intercept)</dt><dd>0.0059923842575706</dd><dt>crim</dt><dd>-0.122980277577335</dd><dt>zn</dt><dd>0.168601471243525</dd><dt>nox</dt><dd>-0.222250646380738</dd><dt>rm</dt><dd>0.248071233112065</dd><dt>dis</dt><dd>-0.37956559334623</dd><dt>rad</dt><dd>0.290936761632692</dd><dt>tax</dt><dd>-0.250374343174084</dd><dt>ptratio</dt><dd>-0.215615684048209</dd><dt>black</dt><dd>0.0877087460226517</dd><dt>lstat</dt><dd>-0.4063148069042</dd></dl>\n"
            ],
            "text/markdown": "(Intercept)\n:   0.0059923842575706crim\n:   -0.122980277577335zn\n:   0.168601471243525nox\n:   -0.222250646380738rm\n:   0.248071233112065dis\n:   -0.37956559334623rad\n:   0.290936761632692tax\n:   -0.250374343174084ptratio\n:   -0.215615684048209black\n:   0.0877087460226517lstat\n:   -0.4063148069042\n\n",
            "text/latex": "\\begin{description*}\n\\item[(Intercept)] 0.0059923842575706\n\\item[crim] -0.122980277577335\n\\item[zn] 0.168601471243525\n\\item[nox] -0.222250646380738\n\\item[rm] 0.248071233112065\n\\item[dis] -0.37956559334623\n\\item[rad] 0.290936761632692\n\\item[tax] -0.250374343174084\n\\item[ptratio] -0.215615684048209\n\\item[black] 0.0877087460226517\n\\item[lstat] -0.4063148069042\n\\end{description*}\n",
            "text/plain": [
              " (Intercept)         crim           zn          nox           rm          dis \n",
              " 0.005992384 -0.122980278  0.168601471 -0.222250646  0.248071233 -0.379565593 \n",
              "         rad          tax      ptratio        black        lstat \n",
              " 0.290936762 -0.250374343 -0.215615684  0.087708746 -0.406314807 "
            ]
          },
          "metadata": {}
        },
        {
          "output_type": "display_data",
          "data": {
            "text/html": [
              "0.341283241039775"
            ],
            "text/markdown": "0.341283241039775",
            "text/latex": "0.341283241039775",
            "text/plain": [
              "[1] 0.3412832"
            ]
          },
          "metadata": {}
        },
        {
          "output_type": "display_data",
          "data": {
            "text/plain": [
              "plot without title"
            ],
            "image/png": "[encoded data removed]"
          },
          "metadata": {
            "image/png": {
              "width": 420,
              "height": 420
            }
          }
        }
      ],
      "source": [
        "install.packages('leaps')\n",
        "library(leaps)\n",
        "\n",
        "#model selection\n",
        "regfit.full <- regsubsets(medv ~ . , data = df.train, nvmax=15)\n",
        "\n",
        "reg.summary <- summary(regfit.full)\n",
        "best.model <- which.min(reg.summary$bic) #number of variables with the smallest BIC value\n",
        "#plotting the BIC curve across the number of variables\n",
        "plot(reg.summary$bic,xlab=\"Number of Variables\",ylab=\"BIC\",type='l')\n",
        "points(best.model,reg.summary$bic[best.model], col=\"red\",cex=2,pch=20)\n",
        "\n",
        "#predictions on test set\n",
        "Xtest <- model.matrix(medv ~ . , data = df.test) #creates a model matrix from the df.test, which includes all predictor variables for making predictions\n",
        "#taking the estimated parameters from the model with lowest BIC\n",
        "coefbest <- coef(regfit.full,best.model) #extracts the coefficients of the predictors for the best model\n",
        "coefbest\n",
        "#'%*%' means matrix multiplication\n",
        "pred <- Xtest[,names(coefbest)]%*%coefbest #subsets the Xtest matrix to include only the predictors in the best model, then performs matrix multiplication to calculate the predicted values pred\n",
        "\n",
        "#mse\n",
        "mean((df.test$medv-pred)^2)\n",
        "MSEBS <- mean((df.test$medv-pred)^2)"
      ]
    },
    {
      "cell_type": "markdown",
      "metadata": {
        "id": "vVjbDGNPMRAo"
      },
      "source": [
        "\n",
        "Lower BIC values indicate better model fit with an appropriate penalty for the number of predictors to avoid overfitting. The best-subsets regression analysis has identified the optimal model with 10 predictor variables.\n",
        "\n",
        "\n",
        "**Best Subsets has a MSE of 34.13.**\n"
      ]
    },
    {
      "cell_type": "markdown",
      "source": [
        "\n",
        "#### 3.2.3: Ridge Regression\n",
        "\n",
        "Ridge regression is a model tuning method that is used to analyse any data that suffers from multicollinearity. We’ll use the `glmnet()` function to fit the ridge regression model and specify `alpha=0`."
      ],
      "metadata": {
        "id": "qgxaAvJD_gbv"
      }
    },
    {
      "cell_type": "code",
      "execution_count": 21,
      "metadata": {
        "id": "2WhJuk1NMds3",
        "colab": {
          "base_uri": "https://localhost:8080/",
          "height": 329
        },
        "outputId": "bb1d9a63-857e-4d82-d417-f38e9594e963"
      },
      "outputs": [
        {
          "output_type": "stream",
          "name": "stderr",
          "text": [
            "Installing package into ‘/usr/local/lib/R/site-library’\n",
            "(as ‘lib’ is unspecified)\n",
            "\n",
            "Loading required package: Matrix\n",
            "\n",
            "\n",
            "Attaching package: ‘Matrix’\n",
            "\n",
            "\n",
            "The following object is masked from ‘package:spam’:\n",
            "\n",
            "    det\n",
            "\n",
            "\n",
            "Loaded glmnet 4.1-8\n",
            "\n"
          ]
        },
        {
          "output_type": "display_data",
          "data": {
            "text/html": [
              "0.01"
            ],
            "text/markdown": "0.01",
            "text/latex": "0.01",
            "text/plain": [
              "[1] 0.01"
            ]
          },
          "metadata": {}
        },
        {
          "output_type": "display_data",
          "data": {
            "text/html": [
              "0.3320938925871"
            ],
            "text/markdown": "0.3320938925871",
            "text/latex": "0.3320938925871",
            "text/plain": [
              "[1] 0.3320939"
            ]
          },
          "metadata": {}
        }
      ],
      "source": [
        "set.seed(1)\n",
        "install.packages('glmnet')\n",
        "library(glmnet)\n",
        "train.mat <-  model.matrix(medv ~ . , data = df.train)\n",
        "test.mat <-  model.matrix(medv ~ . , data = df.test)\n",
        "\n",
        "#cross validation code to find lambda value\n",
        "grid <-  10 ^ seq(4, -2, length = 100)\n",
        "mod.ridge <-  cv.glmnet(train.mat, df.train[, \"medv\"],\n",
        "                        alpha = 0, lambda = grid, thresh = 1e-12)\n",
        "lambda.best <-  mod.ridge$lambda.min #extracts the lambda value that resulted in the lowest cross-validated error\n",
        "lambda.best\n",
        "\n",
        "#prediction\n",
        "ridge.pred <-  predict(mod.ridge, newx = test.mat, s = lambda.best)\n",
        "mean((df.test[, \"medv\"] - ridge.pred)^2)\n",
        "MSERidge <- mean((df.test[, \"medv\"] - ridge.pred)^2)"
      ]
    },
    {
      "cell_type": "markdown",
      "metadata": {
        "id": "JXm5PwBkMd1b"
      },
      "source": [
        "**Ridge Regression has a MSE of 33.21.**\n",
        "\n",
        "####3.2.4: Lasso Regression\n",
        "\n",
        "Lasso regression is another model tuning method, similar to ridge, that is used to analyse data with multicollinearity present. We’ll use the `glmnet()` function as well to fit the lasso regression model but specify `alpha=1` instead."
      ]
    },
    {
      "cell_type": "code",
      "execution_count": 22,
      "metadata": {
        "id": "o0CDyCT8Mn1z",
        "colab": {
          "base_uri": "https://localhost:8080/",
          "height": 347
        },
        "outputId": "c6cdd077-50db-4f90-d5c8-7af9e6ae5f2e"
      },
      "outputs": [
        {
          "output_type": "display_data",
          "data": {
            "text/html": [
              "0.01"
            ],
            "text/markdown": "0.01",
            "text/latex": "0.01",
            "text/plain": [
              "[1] 0.01"
            ]
          },
          "metadata": {}
        },
        {
          "output_type": "display_data",
          "data": {
            "text/html": [
              "0.33132969834316"
            ],
            "text/markdown": "0.33132969834316",
            "text/latex": "0.33132969834316",
            "text/plain": [
              "[1] 0.3313297"
            ]
          },
          "metadata": {}
        },
        {
          "output_type": "display_data",
          "data": {
            "text/plain": [
              "15 x 1 sparse Matrix of class \"dgCMatrix\"\n",
              "                       s1\n",
              "(Intercept) -2.420101e-16\n",
              "(Intercept)  .           \n",
              "crim        -7.120694e-02\n",
              "zn           8.015229e-02\n",
              "indus        .           \n",
              "chas         7.189362e-02\n",
              "nox         -1.750523e-01\n",
              "rm           3.063481e-01\n",
              "age          .           \n",
              "dis         -2.697704e-01\n",
              "rad          1.413582e-01\n",
              "tax         -1.012096e-01\n",
              "ptratio     -2.102326e-01\n",
              "black        8.366203e-02\n",
              "lstat       -4.055880e-01"
            ]
          },
          "metadata": {}
        }
      ],
      "source": [
        "#cross validation code to find lambda value\n",
        "mod.lasso <-  cv.glmnet(train.mat, df.train[, \"medv\"],\n",
        "                        alpha = 1, lambda = grid, thresh = 1e-12)\n",
        "lambda.best <-  mod.lasso$lambda.min\n",
        "lambda.best\n",
        "\n",
        "#prediction\n",
        "lasso.pred <-  predict(mod.lasso, newx = test.mat, s = lambda.best)\n",
        "mean((df.test[, \"medv\"] - lasso.pred)^2)\n",
        "MSELasso <- mean((df.test[, \"medv\"] - lasso.pred)^2)\n",
        "\n",
        "#obtain the coefficient estimates\n",
        "mod.lasso <-  glmnet(model.matrix(medv ~ . , data = df),\n",
        "                     df[, \"medv\"], alpha = 1)\n",
        "predict(mod.lasso, s = lambda.best, type = \"coefficients\")"
      ]
    },
    {
      "cell_type": "markdown",
      "metadata": {
        "id": "0D-6AxLvMoAt"
      },
      "source": [
        "**Lasso Regression has a MSE of 33.13.**\n",
        "\n",
        "### 3.3: Final Analysis"
      ]
    },
    {
      "cell_type": "code",
      "execution_count": 23,
      "metadata": {
        "id": "NhOG4XdrMyBG",
        "colab": {
          "base_uri": "https://localhost:8080/",
          "height": 121
        },
        "outputId": "cb686ce3-24d0-4c6f-dd4d-d422d5733185"
      },
      "outputs": [
        {
          "output_type": "display_data",
          "data": {
            "text/plain": [
              "                              MSE values\n",
              "Least Squares                  0.3683490\n",
              "Least Squares (w interaction)  0.2981142\n",
              "Best Subset                    0.3412832\n",
              "Ridge                          0.3320939\n",
              "Lasso                          0.3313297"
            ]
          },
          "metadata": {}
        }
      ],
      "source": [
        "#creating a table of overall results\n",
        "msevalues <- matrix(c(MSELM, MSELMX, MSEBS, MSERidge, MSELasso), ncol=1)\n",
        "colnames(msevalues) <- c('MSE values')\n",
        "rownames(msevalues) <- c('Least Squares', 'Least Squares (w interaction)', 'Best Subset','Ridge', 'Lasso')\n",
        "as.table(msevalues)"
      ]
    },
    {
      "cell_type": "markdown",
      "metadata": {
        "id": "fGn3_eAbM1HE"
      },
      "source": [
        "**Least Squares with interaction effect is the best performing model.**\n",
        "Including interaction terms significantly improves model performance, as indicated by the lowest MSE. This suggests that the interactions between variables are crucial in this dataset. Both Ridge and Lasso regression improve performance compared to the ordinary least squares model. This indicates that regularization helps to handle overfitting and multicollinearity. For further improvements, we can consider combining interactions with regularization (interaction terms with Ridge or Lasso regression) to balance complexity and predictive performance."
      ]
    }
  ],
  "metadata": {
    "colab": {
      "provenance": [],
      "authorship_tag": "ABX9TyPDsYNVRqrgEzqk6+QhGxTk",
      "include_colab_link": true
    },
    "kernelspec": {
      "display_name": "R",
      "name": "ir"
    },
    "language_info": {
      "name": "R"
    }
  },
  "nbformat": 4,
  "nbformat_minor": 0
}